{
  "nbformat": 4,
  "nbformat_minor": 0,
  "metadata": {
    "colab": {
      "name": "Forecasting EQ.ipynb",
      "provenance": [],
      "toc_visible": true
    },
    "kernelspec": {
      "name": "python3",
      "display_name": "Python 3"
    }
  },
  "cells": [
    {
      "cell_type": "code",
      "metadata": {
        "id": "y_VqXIy9vnfi",
        "colab_type": "code",
        "outputId": "34e3654e-faeb-4f73-a366-ee61d97978d0",
        "colab": {
          "base_uri": "https://localhost:8080/",
          "height": 320
        }
      },
      "source": [
        "import pandas as pd\n",
        "Train_data=pd.read_csv(\"Training.csv\")\n",
        "Train_data.describe()"
      ],
      "execution_count": 0,
      "outputs": [
        {
          "output_type": "execute_result",
          "data": {
            "text/html": [
              "<div>\n",
              "<style scoped>\n",
              "    .dataframe tbody tr th:only-of-type {\n",
              "        vertical-align: middle;\n",
              "    }\n",
              "\n",
              "    .dataframe tbody tr th {\n",
              "        vertical-align: top;\n",
              "    }\n",
              "\n",
              "    .dataframe thead th {\n",
              "        text-align: right;\n",
              "    }\n",
              "</style>\n",
              "<table border=\"1\" class=\"dataframe\">\n",
              "  <thead>\n",
              "    <tr style=\"text-align: right;\">\n",
              "      <th></th>\n",
              "      <th>Day</th>\n",
              "      <th>EQ</th>\n",
              "      <th>Social_Search_Impressions</th>\n",
              "      <th>Social_Search_Working_cost</th>\n",
              "      <th>Digital_Impressions</th>\n",
              "      <th>Digital_Working_cost</th>\n",
              "      <th>Print_Impressions.Ads40</th>\n",
              "      <th>Print_Working_Cost.Ads50</th>\n",
              "      <th>OOH_Impressions</th>\n",
              "      <th>OOH_Working_Cost</th>\n",
              "      <th>SOS_pct</th>\n",
              "      <th>Digital_Impressions_pct</th>\n",
              "      <th>CCFOT</th>\n",
              "      <th>Median_Temp</th>\n",
              "      <th>Median_Rainfall</th>\n",
              "      <th>Fuel_Price</th>\n",
              "      <th>Inflation</th>\n",
              "      <th>Trade_Invest</th>\n",
              "      <th>Brand_Equity</th>\n",
              "      <th>Avg_EQ_Price</th>\n",
              "      <th>Any_Promo_pct_ACV</th>\n",
              "      <th>Any_Feat_pct_ACV</th>\n",
              "      <th>Any_Disp_pct_ACV</th>\n",
              "      <th>EQ_Base_Price</th>\n",
              "      <th>Est_ACV_Selling</th>\n",
              "      <th>pct_ACV</th>\n",
              "      <th>Avg_no_of_Items</th>\n",
              "      <th>pct_PromoMarketDollars_Category</th>\n",
              "      <th>RPI_Category</th>\n",
              "      <th>Magazine_Impressions_pct</th>\n",
              "      <th>TV_GRP</th>\n",
              "      <th>Competitor1_RPI</th>\n",
              "      <th>Competitor2_RPI</th>\n",
              "      <th>Competitor3_RPI</th>\n",
              "      <th>Competitor4_RPI</th>\n",
              "      <th>EQ_Category</th>\n",
              "      <th>EQ_Subcategory</th>\n",
              "      <th>pct_PromoMarketDollars_Subcategory</th>\n",
              "      <th>RPI_Subcategory</th>\n",
              "    </tr>\n",
              "  </thead>\n",
              "  <tbody>\n",
              "    <tr>\n",
              "      <th>count</th>\n",
              "      <td>12000.00000</td>\n",
              "      <td>12000.000000</td>\n",
              "      <td>1.200000e+04</td>\n",
              "      <td>12000.000000</td>\n",
              "      <td>1.200000e+04</td>\n",
              "      <td>12000.000000</td>\n",
              "      <td>12000.000000</td>\n",
              "      <td>12000.000000</td>\n",
              "      <td>1.200000e+04</td>\n",
              "      <td>1.200000e+04</td>\n",
              "      <td>12000.000000</td>\n",
              "      <td>12000.000000</td>\n",
              "      <td>12000.000000</td>\n",
              "      <td>12000.00000</td>\n",
              "      <td>12000.000000</td>\n",
              "      <td>12000.000000</td>\n",
              "      <td>12000.000000</td>\n",
              "      <td>12000.000000</td>\n",
              "      <td>12000.000000</td>\n",
              "      <td>12000.000000</td>\n",
              "      <td>12000.000000</td>\n",
              "      <td>12000.000000</td>\n",
              "      <td>12000.000000</td>\n",
              "      <td>12000.000000</td>\n",
              "      <td>1.200000e+04</td>\n",
              "      <td>12000.000000</td>\n",
              "      <td>12000.000000</td>\n",
              "      <td>12000.000000</td>\n",
              "      <td>12000.000000</td>\n",
              "      <td>12000.000000</td>\n",
              "      <td>12000.000000</td>\n",
              "      <td>12000.000000</td>\n",
              "      <td>12000.000000</td>\n",
              "      <td>12000.000000</td>\n",
              "      <td>12000.000000</td>\n",
              "      <td>1.200000e+04</td>\n",
              "      <td>12000.000000</td>\n",
              "      <td>12000.000000</td>\n",
              "      <td>12000.000000</td>\n",
              "    </tr>\n",
              "    <tr>\n",
              "      <th>mean</th>\n",
              "      <td>6000.50000</td>\n",
              "      <td>638.008496</td>\n",
              "      <td>1.962056e+07</td>\n",
              "      <td>63131.860167</td>\n",
              "      <td>6.663405e+06</td>\n",
              "      <td>218973.240167</td>\n",
              "      <td>194404.538917</td>\n",
              "      <td>95406.492167</td>\n",
              "      <td>4.526812e+08</td>\n",
              "      <td>1.975918e+06</td>\n",
              "      <td>25.417500</td>\n",
              "      <td>25.536417</td>\n",
              "      <td>55.676333</td>\n",
              "      <td>54.96625</td>\n",
              "      <td>0.505050</td>\n",
              "      <td>8.534585</td>\n",
              "      <td>0.069431</td>\n",
              "      <td>5401.335667</td>\n",
              "      <td>43.195512</td>\n",
              "      <td>51.190840</td>\n",
              "      <td>8.490765</td>\n",
              "      <td>3.860101</td>\n",
              "      <td>2.258228</td>\n",
              "      <td>1.547540</td>\n",
              "      <td>5.668180e+08</td>\n",
              "      <td>29.759396</td>\n",
              "      <td>2.561427</td>\n",
              "      <td>0.232493</td>\n",
              "      <td>40.626648</td>\n",
              "      <td>50.354613</td>\n",
              "      <td>28.902704</td>\n",
              "      <td>106.173423</td>\n",
              "      <td>38.655960</td>\n",
              "      <td>46.162093</td>\n",
              "      <td>70.641081</td>\n",
              "      <td>6.688170e+06</td>\n",
              "      <td>549685.650917</td>\n",
              "      <td>0.218851</td>\n",
              "      <td>40.159309</td>\n",
              "    </tr>\n",
              "    <tr>\n",
              "      <th>std</th>\n",
              "      <td>3464.24595</td>\n",
              "      <td>1200.109675</td>\n",
              "      <td>1.084298e+07</td>\n",
              "      <td>34518.859817</td>\n",
              "      <td>3.824995e+06</td>\n",
              "      <td>124075.882373</td>\n",
              "      <td>85857.419707</td>\n",
              "      <td>55041.846012</td>\n",
              "      <td>2.308381e+08</td>\n",
              "      <td>1.017836e+06</td>\n",
              "      <td>14.477327</td>\n",
              "      <td>14.537404</td>\n",
              "      <td>26.024665</td>\n",
              "      <td>13.54526</td>\n",
              "      <td>0.284368</td>\n",
              "      <td>0.752685</td>\n",
              "      <td>0.034484</td>\n",
              "      <td>2817.696456</td>\n",
              "      <td>0.462243</td>\n",
              "      <td>5.130696</td>\n",
              "      <td>4.718068</td>\n",
              "      <td>1.161473</td>\n",
              "      <td>1.189713</td>\n",
              "      <td>0.078268</td>\n",
              "      <td>1.884305e+08</td>\n",
              "      <td>9.219282</td>\n",
              "      <td>0.194972</td>\n",
              "      <td>0.127494</td>\n",
              "      <td>2.898335</td>\n",
              "      <td>16.440054</td>\n",
              "      <td>9.506248</td>\n",
              "      <td>8.229686</td>\n",
              "      <td>3.903151</td>\n",
              "      <td>1.893655</td>\n",
              "      <td>5.081959</td>\n",
              "      <td>3.179592e+06</td>\n",
              "      <td>197373.143664</td>\n",
              "      <td>0.098834</td>\n",
              "      <td>5.129030</td>\n",
              "    </tr>\n",
              "    <tr>\n",
              "      <th>min</th>\n",
              "      <td>1.00000</td>\n",
              "      <td>0.019459</td>\n",
              "      <td>8.741110e+05</td>\n",
              "      <td>3546.000000</td>\n",
              "      <td>2.344000e+04</td>\n",
              "      <td>3493.000000</td>\n",
              "      <td>46372.000000</td>\n",
              "      <td>462.000000</td>\n",
              "      <td>5.435061e+07</td>\n",
              "      <td>2.374290e+05</td>\n",
              "      <td>1.000000</td>\n",
              "      <td>1.000000</td>\n",
              "      <td>11.000000</td>\n",
              "      <td>32.00000</td>\n",
              "      <td>0.010040</td>\n",
              "      <td>7.234000</td>\n",
              "      <td>0.009931</td>\n",
              "      <td>508.000000</td>\n",
              "      <td>42.410000</td>\n",
              "      <td>42.220000</td>\n",
              "      <td>0.334000</td>\n",
              "      <td>1.870000</td>\n",
              "      <td>0.178000</td>\n",
              "      <td>1.412000</td>\n",
              "      <td>2.385188e+08</td>\n",
              "      <td>13.890000</td>\n",
              "      <td>2.222200</td>\n",
              "      <td>0.012330</td>\n",
              "      <td>35.623000</td>\n",
              "      <td>21.890000</td>\n",
              "      <td>12.340000</td>\n",
              "      <td>91.900000</td>\n",
              "      <td>31.900000</td>\n",
              "      <td>42.900000</td>\n",
              "      <td>61.900000</td>\n",
              "      <td>1.234920e+06</td>\n",
              "      <td>209473.000000</td>\n",
              "      <td>0.047200</td>\n",
              "      <td>31.230000</td>\n",
              "    </tr>\n",
              "    <tr>\n",
              "      <th>25%</th>\n",
              "      <td>3000.75000</td>\n",
              "      <td>57.604317</td>\n",
              "      <td>1.021389e+07</td>\n",
              "      <td>33164.000000</td>\n",
              "      <td>3.330268e+06</td>\n",
              "      <td>112318.250000</td>\n",
              "      <td>120124.750000</td>\n",
              "      <td>47610.000000</td>\n",
              "      <td>2.519760e+08</td>\n",
              "      <td>1.095344e+06</td>\n",
              "      <td>13.000000</td>\n",
              "      <td>13.000000</td>\n",
              "      <td>34.000000</td>\n",
              "      <td>43.00000</td>\n",
              "      <td>0.259075</td>\n",
              "      <td>7.886000</td>\n",
              "      <td>0.039376</td>\n",
              "      <td>2954.750000</td>\n",
              "      <td>42.790000</td>\n",
              "      <td>46.760000</td>\n",
              "      <td>4.439750</td>\n",
              "      <td>2.840000</td>\n",
              "      <td>1.212750</td>\n",
              "      <td>1.479000</td>\n",
              "      <td>4.041273e+08</td>\n",
              "      <td>21.790000</td>\n",
              "      <td>2.392500</td>\n",
              "      <td>0.121570</td>\n",
              "      <td>38.145750</td>\n",
              "      <td>36.100000</td>\n",
              "      <td>20.720000</td>\n",
              "      <td>99.030000</td>\n",
              "      <td>35.260000</td>\n",
              "      <td>44.520000</td>\n",
              "      <td>66.290000</td>\n",
              "      <td>3.965402e+06</td>\n",
              "      <td>380095.250000</td>\n",
              "      <td>0.133175</td>\n",
              "      <td>35.730000</td>\n",
              "    </tr>\n",
              "    <tr>\n",
              "      <th>50%</th>\n",
              "      <td>6000.50000</td>\n",
              "      <td>210.732487</td>\n",
              "      <td>1.949458e+07</td>\n",
              "      <td>62888.500000</td>\n",
              "      <td>6.715113e+06</td>\n",
              "      <td>218230.500000</td>\n",
              "      <td>193609.500000</td>\n",
              "      <td>95586.000000</td>\n",
              "      <td>4.540579e+08</td>\n",
              "      <td>1.959212e+06</td>\n",
              "      <td>25.000000</td>\n",
              "      <td>25.000000</td>\n",
              "      <td>56.000000</td>\n",
              "      <td>55.00000</td>\n",
              "      <td>0.504800</td>\n",
              "      <td>8.518000</td>\n",
              "      <td>0.069566</td>\n",
              "      <td>5424.500000</td>\n",
              "      <td>43.190000</td>\n",
              "      <td>51.240000</td>\n",
              "      <td>8.460500</td>\n",
              "      <td>3.870000</td>\n",
              "      <td>2.259500</td>\n",
              "      <td>1.547000</td>\n",
              "      <td>5.661150e+08</td>\n",
              "      <td>29.780000</td>\n",
              "      <td>2.561300</td>\n",
              "      <td>0.232600</td>\n",
              "      <td>40.586500</td>\n",
              "      <td>50.190000</td>\n",
              "      <td>28.960000</td>\n",
              "      <td>106.150000</td>\n",
              "      <td>38.625000</td>\n",
              "      <td>46.170000</td>\n",
              "      <td>70.670000</td>\n",
              "      <td>6.619380e+06</td>\n",
              "      <td>547465.000000</td>\n",
              "      <td>0.220000</td>\n",
              "      <td>40.200000</td>\n",
              "    </tr>\n",
              "    <tr>\n",
              "      <th>75%</th>\n",
              "      <td>9000.25000</td>\n",
              "      <td>665.093566</td>\n",
              "      <td>2.913852e+07</td>\n",
              "      <td>92461.750000</td>\n",
              "      <td>9.956033e+06</td>\n",
              "      <td>326631.250000</td>\n",
              "      <td>268843.750000</td>\n",
              "      <td>143789.750000</td>\n",
              "      <td>6.557911e+08</td>\n",
              "      <td>2.854418e+06</td>\n",
              "      <td>38.000000</td>\n",
              "      <td>38.000000</td>\n",
              "      <td>78.000000</td>\n",
              "      <td>67.00000</td>\n",
              "      <td>0.749918</td>\n",
              "      <td>9.199000</td>\n",
              "      <td>0.099334</td>\n",
              "      <td>7841.250000</td>\n",
              "      <td>43.600000</td>\n",
              "      <td>55.640000</td>\n",
              "      <td>12.533500</td>\n",
              "      <td>4.860000</td>\n",
              "      <td>3.293000</td>\n",
              "      <td>1.616000</td>\n",
              "      <td>7.310555e+08</td>\n",
              "      <td>37.760000</td>\n",
              "      <td>2.730925</td>\n",
              "      <td>0.341727</td>\n",
              "      <td>43.179000</td>\n",
              "      <td>64.572500</td>\n",
              "      <td>37.240000</td>\n",
              "      <td>113.282500</td>\n",
              "      <td>42.030000</td>\n",
              "      <td>47.790000</td>\n",
              "      <td>75.030000</td>\n",
              "      <td>9.430345e+06</td>\n",
              "      <td>719804.750000</td>\n",
              "      <td>0.305400</td>\n",
              "      <td>44.560000</td>\n",
              "    </tr>\n",
              "    <tr>\n",
              "      <th>max</th>\n",
              "      <td>12000.00000</td>\n",
              "      <td>18557.563800</td>\n",
              "      <td>3.827240e+07</td>\n",
              "      <td>123421.000000</td>\n",
              "      <td>1.323874e+07</td>\n",
              "      <td>432340.000000</td>\n",
              "      <td>342242.000000</td>\n",
              "      <td>190389.000000</td>\n",
              "      <td>8.493609e+08</td>\n",
              "      <td>3.748194e+06</td>\n",
              "      <td>50.000000</td>\n",
              "      <td>50.000000</td>\n",
              "      <td>100.000000</td>\n",
              "      <td>78.00000</td>\n",
              "      <td>0.999980</td>\n",
              "      <td>9.837000</td>\n",
              "      <td>0.129155</td>\n",
              "      <td>10291.000000</td>\n",
              "      <td>43.990000</td>\n",
              "      <td>60.000000</td>\n",
              "      <td>16.738000</td>\n",
              "      <td>5.870000</td>\n",
              "      <td>4.324000</td>\n",
              "      <td>1.682000</td>\n",
              "      <td>8.938205e+08</td>\n",
              "      <td>45.670000</td>\n",
              "      <td>2.898300</td>\n",
              "      <td>0.453600</td>\n",
              "      <td>45.631000</td>\n",
              "      <td>78.730000</td>\n",
              "      <td>45.340000</td>\n",
              "      <td>120.440000</td>\n",
              "      <td>45.440000</td>\n",
              "      <td>49.440000</td>\n",
              "      <td>79.440000</td>\n",
              "      <td>1.223400e+07</td>\n",
              "      <td>893820.000000</td>\n",
              "      <td>0.389300</td>\n",
              "      <td>49.020000</td>\n",
              "    </tr>\n",
              "  </tbody>\n",
              "</table>\n",
              "</div>"
            ],
            "text/plain": [
              "               Day  ...  RPI_Subcategory\n",
              "count  12000.00000  ...     12000.000000\n",
              "mean    6000.50000  ...        40.159309\n",
              "std     3464.24595  ...         5.129030\n",
              "min        1.00000  ...        31.230000\n",
              "25%     3000.75000  ...        35.730000\n",
              "50%     6000.50000  ...        40.200000\n",
              "75%     9000.25000  ...        44.560000\n",
              "max    12000.00000  ...        49.020000\n",
              "\n",
              "[8 rows x 39 columns]"
            ]
          },
          "metadata": {
            "tags": []
          },
          "execution_count": 1
        }
      ]
    },
    {
      "cell_type": "code",
      "metadata": {
        "id": "iLXr5YOq6isq",
        "colab_type": "code",
        "colab": {}
      },
      "source": [
        "Valid=pd.read_csv(\"Test.csv\")"
      ],
      "execution_count": 0,
      "outputs": []
    },
    {
      "cell_type": "code",
      "metadata": {
        "id": "Uw3RmNTHvpzL",
        "colab_type": "code",
        "outputId": "a5f1fc46-d340-4e6b-a865-1c7872a89df5",
        "colab": {
          "base_uri": "https://localhost:8080/",
          "height": 255
        }
      },
      "source": [
        "Train_data.columns"
      ],
      "execution_count": 0,
      "outputs": [
        {
          "output_type": "execute_result",
          "data": {
            "text/plain": [
              "Index(['Day', 'EQ', 'Social_Search_Impressions', 'Social_Search_Working_cost',\n",
              "       'Digital_Impressions', 'Digital_Working_cost',\n",
              "       'Print_Impressions.Ads40', 'Print_Working_Cost.Ads50',\n",
              "       'OOH_Impressions', 'OOH_Working_Cost', 'SOS_pct',\n",
              "       'Digital_Impressions_pct', 'CCFOT', 'Median_Temp', 'Median_Rainfall',\n",
              "       'Fuel_Price', 'Inflation', 'Trade_Invest', 'Brand_Equity',\n",
              "       'Avg_EQ_Price', 'Any_Promo_pct_ACV', 'Any_Feat_pct_ACV',\n",
              "       'Any_Disp_pct_ACV', 'EQ_Base_Price', 'Est_ACV_Selling', 'pct_ACV',\n",
              "       'Avg_no_of_Items', 'pct_PromoMarketDollars_Category', 'RPI_Category',\n",
              "       'Magazine_Impressions_pct', 'TV_GRP', 'Competitor1_RPI',\n",
              "       'Competitor2_RPI', 'Competitor3_RPI', 'Competitor4_RPI', 'EQ_Category',\n",
              "       'EQ_Subcategory', 'pct_PromoMarketDollars_Subcategory',\n",
              "       'RPI_Subcategory'],\n",
              "      dtype='object')"
            ]
          },
          "metadata": {
            "tags": []
          },
          "execution_count": 3
        }
      ]
    },
    {
      "cell_type": "code",
      "metadata": {
        "id": "1m4iMr5YweVT",
        "colab_type": "code",
        "colab": {}
      },
      "source": [
        "Train_data_final=Train_data.loc[:,['Social_Search_Impressions','Median_Rainfall','Inflation', 'pct_PromoMarketDollars_Category','EQ_Category',\n",
        "       'EQ_Subcategory', 'pct_PromoMarketDollars_Subcategory',\n",
        "                             'EQ']]"
      ],
      "execution_count": 0,
      "outputs": []
    },
    {
      "cell_type": "code",
      "metadata": {
        "id": "xmXOxxvtykm7",
        "colab_type": "code",
        "outputId": "86eb6058-757e-4756-ee22-0ca4ff2827d2",
        "colab": {
          "base_uri": "https://localhost:8080/",
          "height": 227
        }
      },
      "source": [
        "Train_data_final.head()"
      ],
      "execution_count": 0,
      "outputs": [
        {
          "output_type": "execute_result",
          "data": {
            "text/html": [
              "<div>\n",
              "<style scoped>\n",
              "    .dataframe tbody tr th:only-of-type {\n",
              "        vertical-align: middle;\n",
              "    }\n",
              "\n",
              "    .dataframe tbody tr th {\n",
              "        vertical-align: top;\n",
              "    }\n",
              "\n",
              "    .dataframe thead th {\n",
              "        text-align: right;\n",
              "    }\n",
              "</style>\n",
              "<table border=\"1\" class=\"dataframe\">\n",
              "  <thead>\n",
              "    <tr style=\"text-align: right;\">\n",
              "      <th></th>\n",
              "      <th>Social_Search_Impressions</th>\n",
              "      <th>Median_Rainfall</th>\n",
              "      <th>Inflation</th>\n",
              "      <th>pct_PromoMarketDollars_Category</th>\n",
              "      <th>EQ_Category</th>\n",
              "      <th>EQ_Subcategory</th>\n",
              "      <th>pct_PromoMarketDollars_Subcategory</th>\n",
              "      <th>EQ</th>\n",
              "    </tr>\n",
              "  </thead>\n",
              "  <tbody>\n",
              "    <tr>\n",
              "      <th>0</th>\n",
              "      <td>22256928</td>\n",
              "      <td>0.49298</td>\n",
              "      <td>0.067591</td>\n",
              "      <td>0.19960</td>\n",
              "      <td>5420048</td>\n",
              "      <td>475559</td>\n",
              "      <td>0.3766</td>\n",
              "      <td>718.458667</td>\n",
              "    </tr>\n",
              "    <tr>\n",
              "      <th>1</th>\n",
              "      <td>4239408</td>\n",
              "      <td>0.07811</td>\n",
              "      <td>0.046174</td>\n",
              "      <td>0.29390</td>\n",
              "      <td>12155631</td>\n",
              "      <td>371540</td>\n",
              "      <td>0.2515</td>\n",
              "      <td>25.521137</td>\n",
              "    </tr>\n",
              "    <tr>\n",
              "      <th>2</th>\n",
              "      <td>6708500</td>\n",
              "      <td>0.94863</td>\n",
              "      <td>0.026979</td>\n",
              "      <td>0.31483</td>\n",
              "      <td>11939870</td>\n",
              "      <td>225984</td>\n",
              "      <td>0.3679</td>\n",
              "      <td>268.288044</td>\n",
              "    </tr>\n",
              "    <tr>\n",
              "      <th>3</th>\n",
              "      <td>36835247</td>\n",
              "      <td>0.70916</td>\n",
              "      <td>0.106558</td>\n",
              "      <td>0.07673</td>\n",
              "      <td>7045541</td>\n",
              "      <td>551342</td>\n",
              "      <td>0.0504</td>\n",
              "      <td>209.071599</td>\n",
              "    </tr>\n",
              "    <tr>\n",
              "      <th>4</th>\n",
              "      <td>23693467</td>\n",
              "      <td>0.96547</td>\n",
              "      <td>0.129135</td>\n",
              "      <td>0.36388</td>\n",
              "      <td>11488805</td>\n",
              "      <td>254143</td>\n",
              "      <td>0.2219</td>\n",
              "      <td>3482.169185</td>\n",
              "    </tr>\n",
              "  </tbody>\n",
              "</table>\n",
              "</div>"
            ],
            "text/plain": [
              "   Social_Search_Impressions  ...           EQ\n",
              "0                   22256928  ...   718.458667\n",
              "1                    4239408  ...    25.521137\n",
              "2                    6708500  ...   268.288044\n",
              "3                   36835247  ...   209.071599\n",
              "4                   23693467  ...  3482.169185\n",
              "\n",
              "[5 rows x 8 columns]"
            ]
          },
          "metadata": {
            "tags": []
          },
          "execution_count": 5
        }
      ]
    },
    {
      "cell_type": "code",
      "metadata": {
        "id": "gj0MdpSXynVh",
        "colab_type": "code",
        "outputId": "671be4de-7497-4590-b2af-9742bbda1a1b",
        "colab": {
          "base_uri": "https://localhost:8080/",
          "height": 282
        }
      },
      "source": [
        "Train_data['EQ'].plot()"
      ],
      "execution_count": 0,
      "outputs": [
        {
          "output_type": "execute_result",
          "data": {
            "text/plain": [
              "<matplotlib.axes._subplots.AxesSubplot at 0x7f68d8935c18>"
            ]
          },
          "metadata": {
            "tags": []
          },
          "execution_count": 6
        },
        {
          "output_type": "display_data",
          "data": {
            "image/png": "[encoded data removed]",
            "text/plain": [
              "<Figure size 432x288 with 1 Axes>"
            ]
          },
          "metadata": {
            "tags": []
          }
        }
      ]
    },
    {
      "cell_type": "code",
      "metadata": {
        "id": "rw937aGsC_50",
        "colab_type": "code",
        "outputId": "92e13e3d-f9f6-49f8-bc99-84d75c0d4808",
        "colab": {
          "base_uri": "https://localhost:8080/",
          "height": 442
        }
      },
      "source": [
        "Train_data_final"
      ],
      "execution_count": 0,
      "outputs": [
        {
          "output_type": "execute_result",
          "data": {
            "text/html": [
              "<div>\n",
              "<style scoped>\n",
              "    .dataframe tbody tr th:only-of-type {\n",
              "        vertical-align: middle;\n",
              "    }\n",
              "\n",
              "    .dataframe tbody tr th {\n",
              "        vertical-align: top;\n",
              "    }\n",
              "\n",
              "    .dataframe thead th {\n",
              "        text-align: right;\n",
              "    }\n",
              "</style>\n",
              "<table border=\"1\" class=\"dataframe\">\n",
              "  <thead>\n",
              "    <tr style=\"text-align: right;\">\n",
              "      <th></th>\n",
              "      <th>Social_Search_Impressions</th>\n",
              "      <th>Median_Rainfall</th>\n",
              "      <th>Inflation</th>\n",
              "      <th>pct_PromoMarketDollars_Category</th>\n",
              "      <th>EQ_Category</th>\n",
              "      <th>EQ_Subcategory</th>\n",
              "      <th>pct_PromoMarketDollars_Subcategory</th>\n",
              "      <th>EQ</th>\n",
              "    </tr>\n",
              "  </thead>\n",
              "  <tbody>\n",
              "    <tr>\n",
              "      <th>0</th>\n",
              "      <td>22256928</td>\n",
              "      <td>0.49298</td>\n",
              "      <td>0.067591</td>\n",
              "      <td>0.19960</td>\n",
              "      <td>5420048</td>\n",
              "      <td>475559</td>\n",
              "      <td>0.3766</td>\n",
              "      <td>718.458667</td>\n",
              "    </tr>\n",
              "    <tr>\n",
              "      <th>1</th>\n",
              "      <td>4239408</td>\n",
              "      <td>0.07811</td>\n",
              "      <td>0.046174</td>\n",
              "      <td>0.29390</td>\n",
              "      <td>12155631</td>\n",
              "      <td>371540</td>\n",
              "      <td>0.2515</td>\n",
              "      <td>25.521137</td>\n",
              "    </tr>\n",
              "    <tr>\n",
              "      <th>2</th>\n",
              "      <td>6708500</td>\n",
              "      <td>0.94863</td>\n",
              "      <td>0.026979</td>\n",
              "      <td>0.31483</td>\n",
              "      <td>11939870</td>\n",
              "      <td>225984</td>\n",
              "      <td>0.3679</td>\n",
              "      <td>268.288044</td>\n",
              "    </tr>\n",
              "    <tr>\n",
              "      <th>3</th>\n",
              "      <td>36835247</td>\n",
              "      <td>0.70916</td>\n",
              "      <td>0.106558</td>\n",
              "      <td>0.07673</td>\n",
              "      <td>7045541</td>\n",
              "      <td>551342</td>\n",
              "      <td>0.0504</td>\n",
              "      <td>209.071599</td>\n",
              "    </tr>\n",
              "    <tr>\n",
              "      <th>4</th>\n",
              "      <td>23693467</td>\n",
              "      <td>0.96547</td>\n",
              "      <td>0.129135</td>\n",
              "      <td>0.36388</td>\n",
              "      <td>11488805</td>\n",
              "      <td>254143</td>\n",
              "      <td>0.2219</td>\n",
              "      <td>3482.169185</td>\n",
              "    </tr>\n",
              "    <tr>\n",
              "      <th>...</th>\n",
              "      <td>...</td>\n",
              "      <td>...</td>\n",
              "      <td>...</td>\n",
              "      <td>...</td>\n",
              "      <td>...</td>\n",
              "      <td>...</td>\n",
              "      <td>...</td>\n",
              "      <td>...</td>\n",
              "    </tr>\n",
              "    <tr>\n",
              "      <th>11995</th>\n",
              "      <td>25770808</td>\n",
              "      <td>0.71889</td>\n",
              "      <td>0.116807</td>\n",
              "      <td>0.18239</td>\n",
              "      <td>8272828</td>\n",
              "      <td>457864</td>\n",
              "      <td>0.3466</td>\n",
              "      <td>2590.892697</td>\n",
              "    </tr>\n",
              "    <tr>\n",
              "      <th>11996</th>\n",
              "      <td>37456881</td>\n",
              "      <td>0.49258</td>\n",
              "      <td>0.065009</td>\n",
              "      <td>0.05693</td>\n",
              "      <td>4472051</td>\n",
              "      <td>458844</td>\n",
              "      <td>0.2238</td>\n",
              "      <td>156.792378</td>\n",
              "    </tr>\n",
              "    <tr>\n",
              "      <th>11997</th>\n",
              "      <td>24982441</td>\n",
              "      <td>0.99117</td>\n",
              "      <td>0.074154</td>\n",
              "      <td>0.36290</td>\n",
              "      <td>1575934</td>\n",
              "      <td>563762</td>\n",
              "      <td>0.0703</td>\n",
              "      <td>208.095996</td>\n",
              "    </tr>\n",
              "    <tr>\n",
              "      <th>11998</th>\n",
              "      <td>35213911</td>\n",
              "      <td>0.41459</td>\n",
              "      <td>0.021332</td>\n",
              "      <td>0.42034</td>\n",
              "      <td>9391109</td>\n",
              "      <td>582726</td>\n",
              "      <td>0.0599</td>\n",
              "      <td>214.557394</td>\n",
              "    </tr>\n",
              "    <tr>\n",
              "      <th>11999</th>\n",
              "      <td>37143495</td>\n",
              "      <td>0.29516</td>\n",
              "      <td>0.011413</td>\n",
              "      <td>0.30535</td>\n",
              "      <td>11713937</td>\n",
              "      <td>312761</td>\n",
              "      <td>0.1015</td>\n",
              "      <td>71.037805</td>\n",
              "    </tr>\n",
              "  </tbody>\n",
              "</table>\n",
              "<p>12000 rows × 8 columns</p>\n",
              "</div>"
            ],
            "text/plain": [
              "       Social_Search_Impressions  ...           EQ\n",
              "0                       22256928  ...   718.458667\n",
              "1                        4239408  ...    25.521137\n",
              "2                        6708500  ...   268.288044\n",
              "3                       36835247  ...   209.071599\n",
              "4                       23693467  ...  3482.169185\n",
              "...                          ...  ...          ...\n",
              "11995                   25770808  ...  2590.892697\n",
              "11996                   37456881  ...   156.792378\n",
              "11997                   24982441  ...   208.095996\n",
              "11998                   35213911  ...   214.557394\n",
              "11999                   37143495  ...    71.037805\n",
              "\n",
              "[12000 rows x 8 columns]"
            ]
          },
          "metadata": {
            "tags": []
          },
          "execution_count": 7
        }
      ]
    },
    {
      "cell_type": "code",
      "metadata": {
        "id": "C3FV9QM3DAmQ",
        "colab_type": "code",
        "colab": {}
      },
      "source": [
        "from sklearn.preprocessing import MinMaxScaler\n"
      ],
      "execution_count": 0,
      "outputs": []
    },
    {
      "cell_type": "code",
      "metadata": {
        "id": "Uu3SbcidDLXC",
        "colab_type": "code",
        "colab": {}
      },
      "source": [
        "scaler = MinMaxScaler()\n",
        "#scaler.fit(Train_data_final)\n",
        "normalized_train_data=scaler.fit_transform(Train_data_final)"
      ],
      "execution_count": 0,
      "outputs": []
    },
    {
      "cell_type": "code",
      "metadata": {
        "id": "oKH8nzWD0fhY",
        "colab_type": "code",
        "outputId": "3bc83394-30b4-4b46-fdc3-e7a16d1c111a",
        "colab": {
          "base_uri": "https://localhost:8080/",
          "height": 71
        }
      },
      "source": [
        "from statsmodels.tsa.vector_ar.var_model import VAR\n"
      ],
      "execution_count": 0,
      "outputs": [
        {
          "output_type": "stream",
          "text": [
            "/usr/local/lib/python3.6/dist-packages/statsmodels/tools/_testing.py:19: FutureWarning: pandas.util.testing is deprecated. Use the functions in the public API at pandas.testing instead.\n",
            "  import pandas.util.testing as tm\n"
          ],
          "name": "stderr"
        }
      ]
    },
    {
      "cell_type": "code",
      "metadata": {
        "id": "LDX-Poc-4C_5",
        "colab_type": "code",
        "outputId": "f01034d4-8582-4fd8-df6e-c776b587f59c",
        "colab": {
          "base_uri": "https://localhost:8080/",
          "height": 935
        }
      },
      "source": [
        "model = VAR(endog=normalized_train_data)\n",
        "#model_fit = model.fit()\n",
        "#model = VAR(df_differenced)\n",
        "for i in [1,2,3,4,5,6,7,8,9]:\n",
        "    result = model.fit(i)\n",
        "    print('Lag Order =', i)\n",
        "    print('AIC : ', result.aic)\n",
        "    print('BIC : ', result.bic)\n",
        "    print('FPE : ', result.fpe)\n",
        "    print('HQIC: ', result.hqic, '\\n')"
      ],
      "execution_count": 0,
      "outputs": [
        {
          "output_type": "stream",
          "text": [
            "Lag Order = 1\n",
            "AIC :  -23.521040514030677\n",
            "BIC :  -23.476681345881545\n",
            "FPE :  6.094553546759875e-11\n",
            "HQIC:  -23.506160235616022 \n",
            "\n",
            "Lag Order = 2\n",
            "AIC :  -23.515816196927897\n",
            "BIC :  -23.432020618185028\n",
            "FPE :  6.126476822087837e-11\n",
            "HQIC:  -23.487706862874354 \n",
            "\n",
            "Lag Order = 3\n",
            "AIC :  -23.512913962402017\n",
            "BIC :  -23.38967628802484\n",
            "FPE :  6.144283324489451e-11\n",
            "HQIC:  -23.471573556689485 \n",
            "\n",
            "Lag Order = 4\n",
            "AIC :  -23.510031749496353\n",
            "BIC :  -23.347346293133782\n",
            "FPE :  6.162018389233724e-11\n",
            "HQIC:  -23.455458255626763 \n",
            "\n",
            "Lag Order = 5\n",
            "AIC :  -23.5063384395619\n",
            "BIC :  -23.30419951355191\n",
            "FPE :  6.184819341973138e-11\n",
            "HQIC:  -23.438529840559053 \n",
            "\n",
            "Lag Order = 6\n",
            "AIC :  -23.50244239814656\n",
            "BIC :  -23.26084431351578\n",
            "FPE :  6.208963590954479e-11\n",
            "HQIC:  -23.421396676555986 \n",
            "\n",
            "Lag Order = 7\n",
            "AIC :  -23.49775846493774\n",
            "BIC :  -23.216695531401037\n",
            "FPE :  6.238115481443097e-11\n",
            "HQIC:  -23.403473602826534 \n",
            "\n",
            "Lag Order = 8\n",
            "AIC :  -23.493288333604514\n",
            "BIC :  -23.172754859564584\n",
            "FPE :  6.266064829126174e-11\n",
            "HQIC:  -23.38576231256119 \n",
            "\n",
            "Lag Order = 9\n",
            "AIC :  -23.48933585933977\n",
            "BIC :  -23.129326151886715\n",
            "FPE :  6.290882525535331e-11\n",
            "HQIC:  -23.368566660474105 \n",
            "\n"
          ],
          "name": "stdout"
        }
      ]
    },
    {
      "cell_type": "code",
      "metadata": {
        "id": "ut-YwMuPmrwc",
        "colab_type": "code",
        "outputId": "7ecd4748-6174-4a61-e5c2-4679d56b7b71",
        "colab": {
          "base_uri": "https://localhost:8080/",
          "height": 305
        }
      },
      "source": [
        "x = model.select_order(maxlags=10)\n",
        "x.summary()"
      ],
      "execution_count": 0,
      "outputs": [
        {
          "output_type": "execute_result",
          "data": {
            "text/html": [
              "<table class=\"simpletable\">\n",
              "<caption>VAR Order Selection (* highlights the minimums)</caption>\n",
              "<tr>\n",
              "   <td></td>      <th>AIC</th>         <th>BIC</th>         <th>FPE</th>        <th>HQIC</th>    \n",
              "</tr>\n",
              "<tr>\n",
              "  <th>0</th>  <td>    -23.53*</td> <td>    -23.52*</td> <td> 6.056e-11*</td> <td>    -23.53*</td>\n",
              "</tr>\n",
              "<tr>\n",
              "  <th>1</th>  <td>    -23.52</td>  <td>    -23.48</td>  <td> 6.091e-11</td>  <td>    -23.51</td> \n",
              "</tr>\n",
              "<tr>\n",
              "  <th>2</th>  <td>    -23.52</td>  <td>    -23.43</td>  <td> 6.123e-11</td>  <td>    -23.49</td> \n",
              "</tr>\n",
              "<tr>\n",
              "  <th>3</th>  <td>    -23.51</td>  <td>    -23.39</td>  <td> 6.144e-11</td>  <td>    -23.47</td> \n",
              "</tr>\n",
              "<tr>\n",
              "  <th>4</th>  <td>    -23.51</td>  <td>    -23.35</td>  <td> 6.162e-11</td>  <td>    -23.46</td> \n",
              "</tr>\n",
              "<tr>\n",
              "  <th>5</th>  <td>    -23.51</td>  <td>    -23.30</td>  <td> 6.187e-11</td>  <td>    -23.44</td> \n",
              "</tr>\n",
              "<tr>\n",
              "  <th>6</th>  <td>    -23.50</td>  <td>    -23.26</td>  <td> 6.210e-11</td>  <td>    -23.42</td> \n",
              "</tr>\n",
              "<tr>\n",
              "  <th>7</th>  <td>    -23.50</td>  <td>    -23.22</td>  <td> 6.241e-11</td>  <td>    -23.40</td> \n",
              "</tr>\n",
              "<tr>\n",
              "  <th>8</th>  <td>    -23.49</td>  <td>    -23.17</td>  <td> 6.268e-11</td>  <td>    -23.39</td> \n",
              "</tr>\n",
              "<tr>\n",
              "  <th>9</th>  <td>    -23.49</td>  <td>    -23.13</td>  <td> 6.292e-11</td>  <td>    -23.37</td> \n",
              "</tr>\n",
              "<tr>\n",
              "  <th>10</th> <td>    -23.48</td>  <td>    -23.08</td>  <td> 6.323e-11</td>  <td>    -23.35</td> \n",
              "</tr>\n",
              "</table>"
            ],
            "text/plain": [
              "<class 'statsmodels.iolib.table.SimpleTable'>"
            ]
          },
          "metadata": {
            "tags": []
          },
          "execution_count": 12
        }
      ]
    },
    {
      "cell_type": "code",
      "metadata": {
        "id": "urpdccvXnWDP",
        "colab_type": "code",
        "outputId": "481172cc-78e6-4ffd-9b2a-ed178b4657de",
        "colab": {
          "base_uri": "https://localhost:8080/",
          "height": 34
        }
      },
      "source": [
        "model_fitted = model.fit(32)\n",
        "\n",
        "\n",
        "model_fitted"
      ],
      "execution_count": 0,
      "outputs": [
        {
          "output_type": "execute_result",
          "data": {
            "text/plain": [
              "<statsmodels.tsa.vector_ar.var_model.VARResultsWrapper at 0x7f68cd578c18>"
            ]
          },
          "metadata": {
            "tags": []
          },
          "execution_count": 13
        }
      ]
    },
    {
      "cell_type": "code",
      "metadata": {
        "id": "u7kxKP5j6PSb",
        "colab_type": "code",
        "colab": {}
      },
      "source": [
        "prediction = model_fitted.forecast(y=normalized_train_data[-32:], steps=len(Valid))\n",
        "#Valid.head()"
      ],
      "execution_count": 0,
      "outputs": []
    },
    {
      "cell_type": "code",
      "metadata": {
        "id": "w4komTlcnVFe",
        "colab_type": "code",
        "outputId": "1d1b38f1-1fd0-4e06-8d2f-edfe2da0a6bb",
        "colab": {
          "base_uri": "https://localhost:8080/",
          "height": 1000
        }
      },
      "source": [
        "prediction"
      ],
      "execution_count": 0,
      "outputs": [
        {
          "output_type": "execute_result",
          "data": {
            "text/plain": [
              "array([[0.45794285, 0.48173449, 0.50949006, 0.48276965, 0.44361653,\n",
              "        0.52250145, 0.51317378, 0.02217822],\n",
              "       [0.49377147, 0.51108967, 0.43040855, 0.41572691, 0.46320998,\n",
              "        0.57268776, 0.56269817, 0.02479483],\n",
              "       [0.49869227, 0.52827855, 0.4225572 , 0.52585077, 0.49688624,\n",
              "        0.53667977, 0.52477128, 0.0318693 ],\n",
              "       [0.54339658, 0.4273208 , 0.51984512, 0.51083677, 0.52449383,\n",
              "        0.45824612, 0.51806412, 0.03537974],\n",
              "       [0.51665734, 0.52332598, 0.53025931, 0.47996291, 0.55655768,\n",
              "        0.55529941, 0.47286151, 0.04492232],\n",
              "       [0.45404978, 0.43976017, 0.54300093, 0.51650241, 0.46189449,\n",
              "        0.49188294, 0.49624286, 0.03352885],\n",
              "       [0.52954722, 0.53242473, 0.50256378, 0.50613981, 0.45508812,\n",
              "        0.48696813, 0.53371337, 0.02110103],\n",
              "       [0.48482547, 0.42720628, 0.49017595, 0.52671833, 0.48521175,\n",
              "        0.48936189, 0.48704943, 0.01528887],\n",
              "       [0.54686783, 0.47834934, 0.47356639, 0.49854719, 0.47649685,\n",
              "        0.48502096, 0.52529806, 0.0261264 ],\n",
              "       [0.47958614, 0.51597504, 0.54183785, 0.47895725, 0.5698308 ,\n",
              "        0.57513082, 0.50630216, 0.04892006],\n",
              "       [0.56520799, 0.52373242, 0.43707029, 0.48683638, 0.52153349,\n",
              "        0.50772946, 0.4745963 , 0.05691346],\n",
              "       [0.47841226, 0.53662768, 0.49633868, 0.49696857, 0.5748456 ,\n",
              "        0.49870294, 0.46960594, 0.03993574],\n",
              "       [0.52729841, 0.50766845, 0.47717696, 0.49802364, 0.48638741,\n",
              "        0.51500051, 0.45976692, 0.03583945],\n",
              "       [0.48513083, 0.45069621, 0.47741421, 0.46795686, 0.50096832,\n",
              "        0.50515284, 0.50516127, 0.02743823],\n",
              "       [0.50117949, 0.51153813, 0.473167  , 0.46049292, 0.49978513,\n",
              "        0.49291381, 0.50283814, 0.0279008 ],\n",
              "       [0.54949309, 0.47400285, 0.45419865, 0.49047206, 0.47709526,\n",
              "        0.50009623, 0.51945068, 0.03166007],\n",
              "       [0.49498737, 0.498619  , 0.46381515, 0.46433235, 0.54811607,\n",
              "        0.48709984, 0.53461068, 0.02751882],\n",
              "       [0.45331276, 0.47410954, 0.49908074, 0.47777426, 0.54883775,\n",
              "        0.52674589, 0.50650828, 0.03548046],\n",
              "       [0.52205986, 0.48861387, 0.45026393, 0.50727954, 0.52656974,\n",
              "        0.52936642, 0.52120829, 0.03787124],\n",
              "       [0.53681757, 0.48539971, 0.46619197, 0.42959255, 0.50565403,\n",
              "        0.52294183, 0.49397659, 0.03158367],\n",
              "       [0.52655468, 0.49910214, 0.49045775, 0.47801391, 0.50244502,\n",
              "        0.46631713, 0.47290517, 0.02719133],\n",
              "       [0.50111262, 0.49215027, 0.47928513, 0.5013225 , 0.5193847 ,\n",
              "        0.45741532, 0.46151688, 0.02755522],\n",
              "       [0.56487919, 0.48585978, 0.51573197, 0.49666898, 0.51381198,\n",
              "        0.46274072, 0.50392056, 0.03757865],\n",
              "       [0.53137773, 0.52545857, 0.5178326 , 0.46264588, 0.49767813,\n",
              "        0.51470306, 0.51840092, 0.03285451],\n",
              "       [0.51261992, 0.51769149, 0.48723705, 0.48020126, 0.52826815,\n",
              "        0.55398998, 0.52250847, 0.0337959 ],\n",
              "       [0.50582419, 0.54409798, 0.49623454, 0.50358071, 0.52144589,\n",
              "        0.47649088, 0.50829911, 0.03644986],\n",
              "       [0.46417255, 0.52678832, 0.51653249, 0.51664924, 0.48102566,\n",
              "        0.48900484, 0.48248607, 0.0337    ],\n",
              "       [0.51125984, 0.50118974, 0.5050528 , 0.51886197, 0.47791402,\n",
              "        0.48848953, 0.49096467, 0.03500758],\n",
              "       [0.50626802, 0.49108814, 0.50935918, 0.51072892, 0.48220191,\n",
              "        0.48940654, 0.49579204, 0.03814901],\n",
              "       [0.48546001, 0.5130418 , 0.50109804, 0.48885331, 0.50037363,\n",
              "        0.48014639, 0.52434381, 0.03817284],\n",
              "       [0.51269248, 0.51213122, 0.48772235, 0.49527688, 0.50082388,\n",
              "        0.50334444, 0.51412007, 0.03622503],\n",
              "       [0.51993501, 0.50510137, 0.49007017, 0.50443588, 0.49496833,\n",
              "        0.49652064, 0.49277819, 0.03639477],\n",
              "       [0.50510715, 0.50777087, 0.49454658, 0.49722089, 0.49790349,\n",
              "        0.505332  , 0.50352607, 0.03599684],\n",
              "       [0.50260845, 0.50281306, 0.49321942, 0.49472635, 0.50479201,\n",
              "        0.50278586, 0.49539793, 0.03464832],\n",
              "       [0.50442131, 0.50294617, 0.49721985, 0.49886107, 0.49863969,\n",
              "        0.50647929, 0.49833755, 0.03489195],\n",
              "       [0.50052908, 0.50680807, 0.49579068, 0.49714963, 0.49918383,\n",
              "        0.50014007, 0.49480864, 0.03386339],\n",
              "       [0.50317798, 0.50433383, 0.49929457, 0.49909606, 0.48759336,\n",
              "        0.49444234, 0.49913203, 0.03376716],\n",
              "       [0.49144124, 0.50677129, 0.49816621, 0.50239314, 0.49874391,\n",
              "        0.49398707, 0.50751221, 0.03442546],\n",
              "       [0.49658972, 0.50019534, 0.49586289, 0.49530401, 0.49551208,\n",
              "        0.50111281, 0.50248812, 0.03356704]])"
            ]
          },
          "metadata": {
            "tags": []
          },
          "execution_count": 15
        }
      ]
    },
    {
      "cell_type": "code",
      "metadata": {
        "id": "TtXd9UR29xGl",
        "colab_type": "code",
        "outputId": "ed092d9d-77d3-406e-9edb-f115e7ec4c9f",
        "colab": {
          "base_uri": "https://localhost:8080/",
          "height": 227
        }
      },
      "source": [
        "import matplotlib.pyplot as plt\n",
        "pd.concat([Train_data,Valid]).head()"
      ],
      "execution_count": 0,
      "outputs": [
        {
          "output_type": "execute_result",
          "data": {
            "text/html": [
              "<div>\n",
              "<style scoped>\n",
              "    .dataframe tbody tr th:only-of-type {\n",
              "        vertical-align: middle;\n",
              "    }\n",
              "\n",
              "    .dataframe tbody tr th {\n",
              "        vertical-align: top;\n",
              "    }\n",
              "\n",
              "    .dataframe thead th {\n",
              "        text-align: right;\n",
              "    }\n",
              "</style>\n",
              "<table border=\"1\" class=\"dataframe\">\n",
              "  <thead>\n",
              "    <tr style=\"text-align: right;\">\n",
              "      <th></th>\n",
              "      <th>Day</th>\n",
              "      <th>EQ</th>\n",
              "      <th>Social_Search_Impressions</th>\n",
              "      <th>Social_Search_Working_cost</th>\n",
              "      <th>Digital_Impressions</th>\n",
              "      <th>Digital_Working_cost</th>\n",
              "      <th>Print_Impressions.Ads40</th>\n",
              "      <th>Print_Working_Cost.Ads50</th>\n",
              "      <th>OOH_Impressions</th>\n",
              "      <th>OOH_Working_Cost</th>\n",
              "      <th>SOS_pct</th>\n",
              "      <th>Digital_Impressions_pct</th>\n",
              "      <th>CCFOT</th>\n",
              "      <th>Median_Temp</th>\n",
              "      <th>Median_Rainfall</th>\n",
              "      <th>Fuel_Price</th>\n",
              "      <th>Inflation</th>\n",
              "      <th>Trade_Invest</th>\n",
              "      <th>Brand_Equity</th>\n",
              "      <th>Avg_EQ_Price</th>\n",
              "      <th>Any_Promo_pct_ACV</th>\n",
              "      <th>Any_Feat_pct_ACV</th>\n",
              "      <th>Any_Disp_pct_ACV</th>\n",
              "      <th>EQ_Base_Price</th>\n",
              "      <th>Est_ACV_Selling</th>\n",
              "      <th>pct_ACV</th>\n",
              "      <th>Avg_no_of_Items</th>\n",
              "      <th>pct_PromoMarketDollars_Category</th>\n",
              "      <th>RPI_Category</th>\n",
              "      <th>Magazine_Impressions_pct</th>\n",
              "      <th>TV_GRP</th>\n",
              "      <th>Competitor1_RPI</th>\n",
              "      <th>Competitor2_RPI</th>\n",
              "      <th>Competitor3_RPI</th>\n",
              "      <th>Competitor4_RPI</th>\n",
              "      <th>EQ_Category</th>\n",
              "      <th>EQ_Subcategory</th>\n",
              "      <th>pct_PromoMarketDollars_Subcategory</th>\n",
              "      <th>RPI_Subcategory</th>\n",
              "      <th>Period</th>\n",
              "    </tr>\n",
              "  </thead>\n",
              "  <tbody>\n",
              "    <tr>\n",
              "      <th>0</th>\n",
              "      <td>1.0</td>\n",
              "      <td>718.458667</td>\n",
              "      <td>22256928.0</td>\n",
              "      <td>56812.0</td>\n",
              "      <td>7724107.0</td>\n",
              "      <td>238700.0</td>\n",
              "      <td>151438.0</td>\n",
              "      <td>1044.0</td>\n",
              "      <td>112229070.0</td>\n",
              "      <td>2133614.0</td>\n",
              "      <td>5.0</td>\n",
              "      <td>11.0</td>\n",
              "      <td>62.0</td>\n",
              "      <td>55.0</td>\n",
              "      <td>0.49298</td>\n",
              "      <td>8.069</td>\n",
              "      <td>0.067591</td>\n",
              "      <td>7708.0</td>\n",
              "      <td>42.77</td>\n",
              "      <td>43.09</td>\n",
              "      <td>13.663</td>\n",
              "      <td>5.25</td>\n",
              "      <td>1.580</td>\n",
              "      <td>1.679</td>\n",
              "      <td>446172630</td>\n",
              "      <td>20.58</td>\n",
              "      <td>2.8135</td>\n",
              "      <td>0.19960</td>\n",
              "      <td>36.223</td>\n",
              "      <td>54.17</td>\n",
              "      <td>16.46</td>\n",
              "      <td>105.71</td>\n",
              "      <td>36.13</td>\n",
              "      <td>46.36</td>\n",
              "      <td>71.83</td>\n",
              "      <td>5420048.0</td>\n",
              "      <td>475559.0</td>\n",
              "      <td>0.3766</td>\n",
              "      <td>45.77</td>\n",
              "      <td>NaN</td>\n",
              "    </tr>\n",
              "    <tr>\n",
              "      <th>1</th>\n",
              "      <td>2.0</td>\n",
              "      <td>25.521137</td>\n",
              "      <td>4239408.0</td>\n",
              "      <td>105695.0</td>\n",
              "      <td>5844288.0</td>\n",
              "      <td>188902.0</td>\n",
              "      <td>264008.0</td>\n",
              "      <td>113582.0</td>\n",
              "      <td>284597324.0</td>\n",
              "      <td>1719318.0</td>\n",
              "      <td>38.0</td>\n",
              "      <td>14.0</td>\n",
              "      <td>59.0</td>\n",
              "      <td>61.0</td>\n",
              "      <td>0.07811</td>\n",
              "      <td>9.328</td>\n",
              "      <td>0.046174</td>\n",
              "      <td>6693.0</td>\n",
              "      <td>42.84</td>\n",
              "      <td>44.26</td>\n",
              "      <td>9.632</td>\n",
              "      <td>1.87</td>\n",
              "      <td>0.806</td>\n",
              "      <td>1.654</td>\n",
              "      <td>856199835</td>\n",
              "      <td>26.53</td>\n",
              "      <td>2.3588</td>\n",
              "      <td>0.29390</td>\n",
              "      <td>43.028</td>\n",
              "      <td>65.79</td>\n",
              "      <td>15.64</td>\n",
              "      <td>111.79</td>\n",
              "      <td>43.31</td>\n",
              "      <td>47.58</td>\n",
              "      <td>67.90</td>\n",
              "      <td>12155631.0</td>\n",
              "      <td>371540.0</td>\n",
              "      <td>0.2515</td>\n",
              "      <td>35.02</td>\n",
              "      <td>NaN</td>\n",
              "    </tr>\n",
              "    <tr>\n",
              "      <th>2</th>\n",
              "      <td>3.0</td>\n",
              "      <td>268.288044</td>\n",
              "      <td>6708500.0</td>\n",
              "      <td>87686.0</td>\n",
              "      <td>13008485.0</td>\n",
              "      <td>19704.0</td>\n",
              "      <td>150505.0</td>\n",
              "      <td>38501.0</td>\n",
              "      <td>807781054.0</td>\n",
              "      <td>1569740.0</td>\n",
              "      <td>9.0</td>\n",
              "      <td>33.0</td>\n",
              "      <td>51.0</td>\n",
              "      <td>33.0</td>\n",
              "      <td>0.94863</td>\n",
              "      <td>9.553</td>\n",
              "      <td>0.026979</td>\n",
              "      <td>2699.0</td>\n",
              "      <td>42.95</td>\n",
              "      <td>48.33</td>\n",
              "      <td>14.728</td>\n",
              "      <td>5.64</td>\n",
              "      <td>3.026</td>\n",
              "      <td>1.620</td>\n",
              "      <td>503553502</td>\n",
              "      <td>14.92</td>\n",
              "      <td>2.8399</td>\n",
              "      <td>0.31483</td>\n",
              "      <td>42.031</td>\n",
              "      <td>45.08</td>\n",
              "      <td>23.91</td>\n",
              "      <td>110.15</td>\n",
              "      <td>38.26</td>\n",
              "      <td>49.26</td>\n",
              "      <td>72.70</td>\n",
              "      <td>11939870.0</td>\n",
              "      <td>225984.0</td>\n",
              "      <td>0.3679</td>\n",
              "      <td>46.22</td>\n",
              "      <td>NaN</td>\n",
              "    </tr>\n",
              "    <tr>\n",
              "      <th>3</th>\n",
              "      <td>4.0</td>\n",
              "      <td>209.071599</td>\n",
              "      <td>36835247.0</td>\n",
              "      <td>70791.0</td>\n",
              "      <td>2520814.0</td>\n",
              "      <td>200111.0</td>\n",
              "      <td>253458.0</td>\n",
              "      <td>53719.0</td>\n",
              "      <td>667441334.0</td>\n",
              "      <td>922723.0</td>\n",
              "      <td>9.0</td>\n",
              "      <td>43.0</td>\n",
              "      <td>56.0</td>\n",
              "      <td>51.0</td>\n",
              "      <td>0.70916</td>\n",
              "      <td>7.838</td>\n",
              "      <td>0.106558</td>\n",
              "      <td>4898.0</td>\n",
              "      <td>43.53</td>\n",
              "      <td>59.10</td>\n",
              "      <td>0.465</td>\n",
              "      <td>2.86</td>\n",
              "      <td>1.006</td>\n",
              "      <td>1.620</td>\n",
              "      <td>463383476</td>\n",
              "      <td>28.92</td>\n",
              "      <td>2.7889</td>\n",
              "      <td>0.07673</td>\n",
              "      <td>41.377</td>\n",
              "      <td>75.24</td>\n",
              "      <td>13.06</td>\n",
              "      <td>116.74</td>\n",
              "      <td>39.37</td>\n",
              "      <td>44.21</td>\n",
              "      <td>73.01</td>\n",
              "      <td>7045541.0</td>\n",
              "      <td>551342.0</td>\n",
              "      <td>0.0504</td>\n",
              "      <td>38.10</td>\n",
              "      <td>NaN</td>\n",
              "    </tr>\n",
              "    <tr>\n",
              "      <th>4</th>\n",
              "      <td>5.0</td>\n",
              "      <td>3482.169185</td>\n",
              "      <td>23693467.0</td>\n",
              "      <td>75610.0</td>\n",
              "      <td>9276779.0</td>\n",
              "      <td>65532.0</td>\n",
              "      <td>278877.0</td>\n",
              "      <td>95178.0</td>\n",
              "      <td>74045467.0</td>\n",
              "      <td>1834970.0</td>\n",
              "      <td>26.0</td>\n",
              "      <td>22.0</td>\n",
              "      <td>48.0</td>\n",
              "      <td>54.0</td>\n",
              "      <td>0.96547</td>\n",
              "      <td>8.085</td>\n",
              "      <td>0.129135</td>\n",
              "      <td>8678.0</td>\n",
              "      <td>43.83</td>\n",
              "      <td>48.50</td>\n",
              "      <td>9.217</td>\n",
              "      <td>4.28</td>\n",
              "      <td>3.681</td>\n",
              "      <td>1.434</td>\n",
              "      <td>692252839</td>\n",
              "      <td>36.12</td>\n",
              "      <td>2.8071</td>\n",
              "      <td>0.36388</td>\n",
              "      <td>38.153</td>\n",
              "      <td>56.85</td>\n",
              "      <td>40.72</td>\n",
              "      <td>115.18</td>\n",
              "      <td>36.85</td>\n",
              "      <td>45.46</td>\n",
              "      <td>75.84</td>\n",
              "      <td>11488805.0</td>\n",
              "      <td>254143.0</td>\n",
              "      <td>0.2219</td>\n",
              "      <td>39.16</td>\n",
              "      <td>NaN</td>\n",
              "    </tr>\n",
              "  </tbody>\n",
              "</table>\n",
              "</div>"
            ],
            "text/plain": [
              "   Day           EQ  ...  RPI_Subcategory  Period\n",
              "0  1.0   718.458667  ...            45.77     NaN\n",
              "1  2.0    25.521137  ...            35.02     NaN\n",
              "2  3.0   268.288044  ...            46.22     NaN\n",
              "3  4.0   209.071599  ...            38.10     NaN\n",
              "4  5.0  3482.169185  ...            39.16     NaN\n",
              "\n",
              "[5 rows x 40 columns]"
            ]
          },
          "metadata": {
            "tags": []
          },
          "execution_count": 16
        }
      ]
    },
    {
      "cell_type": "code",
      "metadata": {
        "id": "XPmQMU9fFUZG",
        "colab_type": "code",
        "outputId": "eec75b55-41f0-42dd-e1b4-2d3e7a672f2e",
        "colab": {
          "base_uri": "https://localhost:8080/",
          "height": 221
        }
      },
      "source": [
        "pd.concat([Train_data.iloc[:,1],Valid.iloc[:,1]])"
      ],
      "execution_count": 0,
      "outputs": [
        {
          "output_type": "execute_result",
          "data": {
            "text/plain": [
              "0      718.458667\n",
              "1       25.521137\n",
              "2      268.288044\n",
              "3      209.071599\n",
              "4     3482.169185\n",
              "         ...     \n",
              "34     175.432319\n",
              "35     168.106665\n",
              "36     161.529279\n",
              "37     151.642231\n",
              "38     130.937361\n",
              "Name: EQ, Length: 12039, dtype: float64"
            ]
          },
          "metadata": {
            "tags": []
          },
          "execution_count": 17
        }
      ]
    },
    {
      "cell_type": "code",
      "metadata": {
        "id": "UvV5bj3sEKyl",
        "colab_type": "code",
        "outputId": "95126886-90a7-40de-dfd6-a3b79b523900",
        "colab": {
          "base_uri": "https://localhost:8080/",
          "height": 136
        }
      },
      "source": [
        "import numpy as np\n",
        "scaler = MinMaxScaler()\n",
        "#scaler.fit(np.array(pd.concat([Train_data,Valid]).iloc[:,1]).reshape(-1, 1))\n",
        "normalized_complete_data=scaler.fit_transform(np.array(pd.concat([Train_data.iloc[:,1],Valid.iloc[:,1]])).reshape(-1, 1))\n",
        "normalized_complete_data"
      ],
      "execution_count": 0,
      "outputs": [
        {
          "output_type": "execute_result",
          "data": {
            "text/plain": [
              "array([[0.03871413],\n",
              "       [0.00137419],\n",
              "       [0.01445604],\n",
              "       ...,\n",
              "       [0.00870319],\n",
              "       [0.00817041],\n",
              "       [0.0070547 ]])"
            ]
          },
          "metadata": {
            "tags": []
          },
          "execution_count": 18
        }
      ]
    },
    {
      "cell_type": "code",
      "metadata": {
        "id": "nH5q3moFgYn2",
        "colab_type": "code",
        "outputId": "4a9d3f5a-39ad-4dd8-a80a-60e060e07ca7",
        "colab": {
          "base_uri": "https://localhost:8080/",
          "height": 136
        }
      },
      "source": [
        "np.array(pd.concat([Train_data,Valid]).iloc[:,1]).reshape(-1, 1)"
      ],
      "execution_count": 0,
      "outputs": [
        {
          "output_type": "execute_result",
          "data": {
            "text/plain": [
              "array([[718.4586667 ],\n",
              "       [ 25.52113734],\n",
              "       [268.2880438 ],\n",
              "       ...,\n",
              "       [161.529279  ],\n",
              "       [151.6422314 ],\n",
              "       [130.9373608 ]])"
            ]
          },
          "metadata": {
            "tags": []
          },
          "execution_count": 19
        }
      ]
    },
    {
      "cell_type": "code",
      "metadata": {
        "id": "fn8BF_yz68jc",
        "colab_type": "code",
        "outputId": "1e750d4d-aaa4-4b20-b644-941b42bc7a44",
        "colab": {
          "base_uri": "https://localhost:8080/",
          "height": 282
        }
      },
      "source": [
        "import matplotlib.pyplot as plt\n",
        "plt.plot(prediction[:,7] )\n",
        "plt.plot(normalized_complete_data[-len(Valid):])"
      ],
      "execution_count": 0,
      "outputs": [
        {
          "output_type": "execute_result",
          "data": {
            "text/plain": [
              "[<matplotlib.lines.Line2D at 0x7f68cd520668>]"
            ]
          },
          "metadata": {
            "tags": []
          },
          "execution_count": 20
        },
        {
          "output_type": "display_data",
          "data": {
            "image/png": "[encoded data removed]",
            "text/plain": [
              "<Figure size 432x288 with 1 Axes>"
            ]
          },
          "metadata": {
            "tags": []
          }
        }
      ]
    },
    {
      "cell_type": "markdown",
      "metadata": {
        "id": "zcfFKYaZPi08",
        "colab_type": "text"
      },
      "source": [
        "\n",
        "***Mean squared error regression loss***"
      ]
    },
    {
      "cell_type": "code",
      "metadata": {
        "id": "CzGTYwjM6-tp",
        "colab_type": "code",
        "outputId": "47bf14f6-4cd8-4c51-db39-3c0005eaa520",
        "colab": {
          "base_uri": "https://localhost:8080/",
          "height": 34
        }
      },
      "source": [
        "from sklearn.metrics import mean_squared_error\n",
        "\n",
        "mean_squared_error(normalized_complete_data[-len(Valid):], prediction[:,1])"
      ],
      "execution_count": 0,
      "outputs": [
        {
          "output_type": "execute_result",
          "data": {
            "text/plain": [
              "0.23315810235190065"
            ]
          },
          "metadata": {
            "tags": []
          },
          "execution_count": 21
        }
      ]
    },
    {
      "cell_type": "markdown",
      "metadata": {
        "id": "g9QMr4CgPGyW",
        "colab_type": "text"
      },
      "source": [
        "**PREDICTIONS**"
      ]
    },
    {
      "cell_type": "code",
      "metadata": {
        "id": "I0dGQdqK9pIl",
        "colab_type": "code",
        "outputId": "c86bba21-07f3-4304-fec1-c2f628d0e825",
        "colab": {
          "base_uri": "https://localhost:8080/",
          "height": 680
        }
      },
      "source": [
        "\n",
        "pred = scaler.inverse_transform(np.array(prediction[:,1]).reshape(-1,1))\n",
        "pred"
      ],
      "execution_count": 0,
      "outputs": [
        {
          "output_type": "execute_result",
          "data": {
            "text/plain": [
              "array([[ 8939.82859431],\n",
              "       [ 9484.58871183],\n",
              "       [ 9803.5721058 ],\n",
              "       [ 7930.04411364],\n",
              "       [ 9711.6644526 ],\n",
              "       [ 8160.88830263],\n",
              "       [ 9880.51493031],\n",
              "       [ 7927.91888478],\n",
              "       [ 8877.00859957],\n",
              "       [ 9575.24908298],\n",
              "       [ 9719.20699976],\n",
              "       [ 9958.51139317],\n",
              "       [ 9421.09925671],\n",
              "       [ 8363.83428978],\n",
              "       [ 9492.91093886],\n",
              "       [ 8796.34829454],\n",
              "       [ 9253.16375279],\n",
              "       [ 8798.32833766],\n",
              "       [ 9067.49300258],\n",
              "       [ 9007.84618938],\n",
              "       [ 9262.12958221],\n",
              "       [ 9133.11987623],\n",
              "       [ 9016.38386047],\n",
              "       [ 9751.24016201],\n",
              "       [ 9607.10220471],\n",
              "       [10097.14180363],\n",
              "       [ 9775.917076  ],\n",
              "       [ 9300.87023145],\n",
              "       [ 9113.40933396],\n",
              "       [ 9520.81535443],\n",
              "       [ 9503.91737056],\n",
              "       [ 9373.46060765],\n",
              "       [ 9422.99996282],\n",
              "       [ 9330.99510757],\n",
              "       [ 9333.46540163],\n",
              "       [ 9405.13262317],\n",
              "       [ 9359.21684485],\n",
              "       [ 9404.45019139],\n",
              "       [ 9282.41660114]])"
            ]
          },
          "metadata": {
            "tags": []
          },
          "execution_count": 22
        }
      ]
    }
  ]
}