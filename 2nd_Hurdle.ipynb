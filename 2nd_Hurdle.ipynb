{
  "nbformat": 4,
  "nbformat_minor": 0,
  "metadata": {
    "colab": {
      "name": "2nd Hurdle.ipynb",
      "provenance": [],
      "collapsed_sections": [],
      "toc_visible": true
    },
    "kernelspec": {
      "name": "python3",
      "display_name": "Python 3"
    }
  },
  "cells": [
    {
      "cell_type": "code",
      "metadata": {
        "id": "y_VqXIy9vnfi",
        "colab_type": "code",
        "outputId": "3c15ac79-b3bb-4c18-8f2e-f1162a9fc651",
        "colab": {
          "base_uri": "https://localhost:8080/",
          "height": 304
        }
      },
      "source": [
        "import pandas as pd\n",
        "Train_data=pd.read_csv(\"Trainingnewhurdle.csv\")\n",
        "Train_data.describe()"
      ],
      "execution_count": 45,
      "outputs": [
        {
          "output_type": "execute_result",
          "data": {
            "text/html": [
              "<div>\n",
              "<style scoped>\n",
              "    .dataframe tbody tr th:only-of-type {\n",
              "        vertical-align: middle;\n",
              "    }\n",
              "\n",
              "    .dataframe tbody tr th {\n",
              "        vertical-align: top;\n",
              "    }\n",
              "\n",
              "    .dataframe thead th {\n",
              "        text-align: right;\n",
              "    }\n",
              "</style>\n",
              "<table border=\"1\" class=\"dataframe\">\n",
              "  <thead>\n",
              "    <tr style=\"text-align: right;\">\n",
              "      <th></th>\n",
              "      <th>EQ</th>\n",
              "      <th>Social_Search_Impressions</th>\n",
              "      <th>Social_Search_Working_cost</th>\n",
              "      <th>Digital_Impressions</th>\n",
              "      <th>Digital_Working_cost</th>\n",
              "      <th>Print_Impressions.Ads40</th>\n",
              "      <th>Print_Working_Cost.Ads50</th>\n",
              "      <th>OOH_Impressions</th>\n",
              "      <th>OOH_Working_Cost</th>\n",
              "      <th>SOS_pct</th>\n",
              "      <th>Digital_Impressions_pct</th>\n",
              "      <th>CCFOT</th>\n",
              "      <th>Median_Temp</th>\n",
              "      <th>Median_Rainfall</th>\n",
              "      <th>Fuel_Price</th>\n",
              "      <th>Inflation</th>\n",
              "      <th>Trade_Invest</th>\n",
              "      <th>Brand_Equity</th>\n",
              "      <th>Avg_EQ_Price</th>\n",
              "      <th>Any_Promo_pct_ACV</th>\n",
              "      <th>Any_Feat_pct_ACV</th>\n",
              "      <th>Any_Disp_pct_ACV</th>\n",
              "      <th>EQ_Base_Price</th>\n",
              "      <th>Est_ACV_Selling</th>\n",
              "      <th>pct_ACV</th>\n",
              "      <th>Avg_no_of_Items</th>\n",
              "      <th>pct_PromoMarketDollars_Category</th>\n",
              "      <th>RPI_Category</th>\n",
              "      <th>Magazine_Impressions_pct</th>\n",
              "      <th>TV_GRP</th>\n",
              "      <th>Competitor1_RPI</th>\n",
              "      <th>Competitor2_RPI</th>\n",
              "      <th>Competitor3_RPI</th>\n",
              "      <th>Competitor4_RPI</th>\n",
              "      <th>EQ_Category</th>\n",
              "      <th>EQ_Subcategory</th>\n",
              "      <th>pct_PromoMarketDollars_Subcategory</th>\n",
              "      <th>RPI_Subcategory</th>\n",
              "    </tr>\n",
              "  </thead>\n",
              "  <tbody>\n",
              "    <tr>\n",
              "      <th>count</th>\n",
              "      <td>34.000000</td>\n",
              "      <td>2.400000e+01</td>\n",
              "      <td>24.000000</td>\n",
              "      <td>2.300000e+01</td>\n",
              "      <td>23.000000</td>\n",
              "      <td>3.300000e+01</td>\n",
              "      <td>33.000000</td>\n",
              "      <td>1.000000e+01</td>\n",
              "      <td>7.000000e+00</td>\n",
              "      <td>34.000000</td>\n",
              "      <td>10.000000</td>\n",
              "      <td>34.000000</td>\n",
              "      <td>34.00000</td>\n",
              "      <td>34.000000</td>\n",
              "      <td>34.000000</td>\n",
              "      <td>34.000000</td>\n",
              "      <td>34.000000</td>\n",
              "      <td>34.000000</td>\n",
              "      <td>34.000000</td>\n",
              "      <td>34.000000</td>\n",
              "      <td>11.000000</td>\n",
              "      <td>22.000000</td>\n",
              "      <td>34.000000</td>\n",
              "      <td>3.400000e+01</td>\n",
              "      <td>34.000000</td>\n",
              "      <td>34.000000</td>\n",
              "      <td>34.000000</td>\n",
              "      <td>34.000000</td>\n",
              "      <td>12.000000</td>\n",
              "      <td>12.000000</td>\n",
              "      <td>34.000000</td>\n",
              "      <td>34.000000</td>\n",
              "      <td>34.000000</td>\n",
              "      <td>34.000000</td>\n",
              "      <td>3.400000e+01</td>\n",
              "      <td>34.000000</td>\n",
              "      <td>34.000000</td>\n",
              "      <td>34.000000</td>\n",
              "    </tr>\n",
              "    <tr>\n",
              "      <th>mean</th>\n",
              "      <td>323.714126</td>\n",
              "      <td>1.229424e+07</td>\n",
              "      <td>51957.191257</td>\n",
              "      <td>3.833919e+06</td>\n",
              "      <td>42576.886790</td>\n",
              "      <td>2.008683e+06</td>\n",
              "      <td>32298.947990</td>\n",
              "      <td>9.930678e+08</td>\n",
              "      <td>3.202352e+06</td>\n",
              "      <td>11.926924</td>\n",
              "      <td>14.556558</td>\n",
              "      <td>87.187390</td>\n",
              "      <td>56.52500</td>\n",
              "      <td>0.392647</td>\n",
              "      <td>10.093794</td>\n",
              "      <td>0.017502</td>\n",
              "      <td>15558.116176</td>\n",
              "      <td>43.377300</td>\n",
              "      <td>52.071985</td>\n",
              "      <td>7.121763</td>\n",
              "      <td>5.190196</td>\n",
              "      <td>1.666359</td>\n",
              "      <td>1.527666</td>\n",
              "      <td>6.004528e+09</td>\n",
              "      <td>26.045311</td>\n",
              "      <td>2.440383</td>\n",
              "      <td>0.022863</td>\n",
              "      <td>38.445437</td>\n",
              "      <td>46.059377</td>\n",
              "      <td>32.008333</td>\n",
              "      <td>102.146076</td>\n",
              "      <td>38.875958</td>\n",
              "      <td>44.441234</td>\n",
              "      <td>65.281623</td>\n",
              "      <td>2.116786e+06</td>\n",
              "      <td>491206.186838</td>\n",
              "      <td>0.101033</td>\n",
              "      <td>42.335193</td>\n",
              "    </tr>\n",
              "    <tr>\n",
              "      <th>std</th>\n",
              "      <td>121.512386</td>\n",
              "      <td>1.021964e+07</td>\n",
              "      <td>42730.005851</td>\n",
              "      <td>4.195661e+06</td>\n",
              "      <td>47739.241098</td>\n",
              "      <td>3.640760e+06</td>\n",
              "      <td>55891.752513</td>\n",
              "      <td>1.290923e+09</td>\n",
              "      <td>3.299834e+06</td>\n",
              "      <td>11.547587</td>\n",
              "      <td>28.263605</td>\n",
              "      <td>19.653386</td>\n",
              "      <td>15.36585</td>\n",
              "      <td>0.169939</td>\n",
              "      <td>1.158548</td>\n",
              "      <td>0.005659</td>\n",
              "      <td>19845.802503</td>\n",
              "      <td>0.747459</td>\n",
              "      <td>3.842254</td>\n",
              "      <td>3.800814</td>\n",
              "      <td>1.200006</td>\n",
              "      <td>1.958047</td>\n",
              "      <td>0.091997</td>\n",
              "      <td>2.095679e+09</td>\n",
              "      <td>9.490019</td>\n",
              "      <td>0.107286</td>\n",
              "      <td>0.018517</td>\n",
              "      <td>2.616143</td>\n",
              "      <td>23.453339</td>\n",
              "      <td>17.100583</td>\n",
              "      <td>8.806682</td>\n",
              "      <td>5.196502</td>\n",
              "      <td>2.978976</td>\n",
              "      <td>4.541603</td>\n",
              "      <td>3.923903e+05</td>\n",
              "      <td>190921.519843</td>\n",
              "      <td>0.098598</td>\n",
              "      <td>2.921126</td>\n",
              "    </tr>\n",
              "    <tr>\n",
              "      <th>min</th>\n",
              "      <td>130.937361</td>\n",
              "      <td>2.160000e+04</td>\n",
              "      <td>2006.674000</td>\n",
              "      <td>2.989220e+04</td>\n",
              "      <td>1800.344000</td>\n",
              "      <td>1.400000e-05</td>\n",
              "      <td>0.000015</td>\n",
              "      <td>2.880720e+04</td>\n",
              "      <td>3.505506e+02</td>\n",
              "      <td>0.102858</td>\n",
              "      <td>0.003853</td>\n",
              "      <td>20.000000</td>\n",
              "      <td>32.95000</td>\n",
              "      <td>0.095000</td>\n",
              "      <td>7.473000</td>\n",
              "      <td>0.007832</td>\n",
              "      <td>365.430000</td>\n",
              "      <td>42.140000</td>\n",
              "      <td>44.782569</td>\n",
              "      <td>0.328645</td>\n",
              "      <td>1.633989</td>\n",
              "      <td>0.033276</td>\n",
              "      <td>1.423408</td>\n",
              "      <td>2.904612e+09</td>\n",
              "      <td>13.036065</td>\n",
              "      <td>2.075661</td>\n",
              "      <td>0.000238</td>\n",
              "      <td>32.483718</td>\n",
              "      <td>7.080951</td>\n",
              "      <td>2.200000</td>\n",
              "      <td>83.883480</td>\n",
              "      <td>32.368993</td>\n",
              "      <td>38.550768</td>\n",
              "      <td>57.583497</td>\n",
              "      <td>1.504339e+06</td>\n",
              "      <td>249237.493500</td>\n",
              "      <td>0.001659</td>\n",
              "      <td>35.480731</td>\n",
              "    </tr>\n",
              "    <tr>\n",
              "      <th>25%</th>\n",
              "      <td>238.093094</td>\n",
              "      <td>3.790024e+06</td>\n",
              "      <td>20550.501500</td>\n",
              "      <td>4.027655e+05</td>\n",
              "      <td>5787.389000</td>\n",
              "      <td>1.666492e-05</td>\n",
              "      <td>0.000020</td>\n",
              "      <td>2.213975e+07</td>\n",
              "      <td>1.919365e+05</td>\n",
              "      <td>1.626260</td>\n",
              "      <td>0.576111</td>\n",
              "      <td>79.241071</td>\n",
              "      <td>43.67500</td>\n",
              "      <td>0.273750</td>\n",
              "      <td>9.358750</td>\n",
              "      <td>0.013435</td>\n",
              "      <td>837.805000</td>\n",
              "      <td>42.736071</td>\n",
              "      <td>49.482521</td>\n",
              "      <td>5.397553</td>\n",
              "      <td>5.337889</td>\n",
              "      <td>0.226414</td>\n",
              "      <td>1.451267</td>\n",
              "      <td>4.469045e+09</td>\n",
              "      <td>15.931733</td>\n",
              "      <td>2.377454</td>\n",
              "      <td>0.006120</td>\n",
              "      <td>36.719295</td>\n",
              "      <td>32.072282</td>\n",
              "      <td>23.100000</td>\n",
              "      <td>97.051358</td>\n",
              "      <td>35.735922</td>\n",
              "      <td>41.852452</td>\n",
              "      <td>62.279815</td>\n",
              "      <td>1.862576e+06</td>\n",
              "      <td>341256.702100</td>\n",
              "      <td>0.031307</td>\n",
              "      <td>40.448477</td>\n",
              "    </tr>\n",
              "    <tr>\n",
              "      <th>50%</th>\n",
              "      <td>292.629436</td>\n",
              "      <td>9.857390e+06</td>\n",
              "      <td>35200.696745</td>\n",
              "      <td>3.006588e+06</td>\n",
              "      <td>23205.988710</td>\n",
              "      <td>2.374541e+03</td>\n",
              "      <td>404.646896</td>\n",
              "      <td>5.313167e+07</td>\n",
              "      <td>3.113695e+06</td>\n",
              "      <td>10.404517</td>\n",
              "      <td>2.535400</td>\n",
              "      <td>100.000000</td>\n",
              "      <td>57.30000</td>\n",
              "      <td>0.392500</td>\n",
              "      <td>9.901500</td>\n",
              "      <td>0.018639</td>\n",
              "      <td>1625.310000</td>\n",
              "      <td>43.568214</td>\n",
              "      <td>51.219477</td>\n",
              "      <td>7.736179</td>\n",
              "      <td>5.559575</td>\n",
              "      <td>1.008699</td>\n",
              "      <td>1.490983</td>\n",
              "      <td>5.615173e+09</td>\n",
              "      <td>24.704770</td>\n",
              "      <td>2.437324</td>\n",
              "      <td>0.022350</td>\n",
              "      <td>38.485672</td>\n",
              "      <td>40.652666</td>\n",
              "      <td>35.100000</td>\n",
              "      <td>100.759645</td>\n",
              "      <td>37.346033</td>\n",
              "      <td>44.606922</td>\n",
              "      <td>64.901897</td>\n",
              "      <td>2.013858e+06</td>\n",
              "      <td>423234.196000</td>\n",
              "      <td>0.078852</td>\n",
              "      <td>42.941337</td>\n",
              "    </tr>\n",
              "    <tr>\n",
              "      <th>75%</th>\n",
              "      <td>445.078677</td>\n",
              "      <td>1.695319e+07</td>\n",
              "      <td>81174.671148</td>\n",
              "      <td>5.946668e+06</td>\n",
              "      <td>68823.001675</td>\n",
              "      <td>1.449305e+06</td>\n",
              "      <td>48695.386310</td>\n",
              "      <td>2.012685e+09</td>\n",
              "      <td>5.150618e+06</td>\n",
              "      <td>18.219558</td>\n",
              "      <td>7.950401</td>\n",
              "      <td>100.000000</td>\n",
              "      <td>71.08750</td>\n",
              "      <td>0.537500</td>\n",
              "      <td>10.918750</td>\n",
              "      <td>0.021555</td>\n",
              "      <td>34109.938785</td>\n",
              "      <td>44.000000</td>\n",
              "      <td>54.003264</td>\n",
              "      <td>8.762272</td>\n",
              "      <td>5.681166</td>\n",
              "      <td>1.826176</td>\n",
              "      <td>1.594085</td>\n",
              "      <td>7.887609e+09</td>\n",
              "      <td>34.926837</td>\n",
              "      <td>2.497038</td>\n",
              "      <td>0.033100</td>\n",
              "      <td>39.639360</td>\n",
              "      <td>54.696999</td>\n",
              "      <td>44.700000</td>\n",
              "      <td>105.313414</td>\n",
              "      <td>40.609072</td>\n",
              "      <td>45.690191</td>\n",
              "      <td>67.734576</td>\n",
              "      <td>2.395357e+06</td>\n",
              "      <td>624275.869825</td>\n",
              "      <td>0.135781</td>\n",
              "      <td>44.038246</td>\n",
              "    </tr>\n",
              "    <tr>\n",
              "      <th>max</th>\n",
              "      <td>546.053084</td>\n",
              "      <td>4.039739e+07</td>\n",
              "      <td>153276.592000</td>\n",
              "      <td>1.830051e+07</td>\n",
              "      <td>170507.762800</td>\n",
              "      <td>1.205852e+07</td>\n",
              "      <td>207179.200500</td>\n",
              "      <td>3.119656e+09</td>\n",
              "      <td>8.617309e+06</td>\n",
              "      <td>47.442188</td>\n",
              "      <td>88.182705</td>\n",
              "      <td>100.000000</td>\n",
              "      <td>77.35000</td>\n",
              "      <td>0.740000</td>\n",
              "      <td>12.286000</td>\n",
              "      <td>0.026884</td>\n",
              "      <td>61675.321620</td>\n",
              "      <td>44.450000</td>\n",
              "      <td>60.677869</td>\n",
              "      <td>16.538448</td>\n",
              "      <td>5.844973</td>\n",
              "      <td>7.925424</td>\n",
              "      <td>1.702518</td>\n",
              "      <td>8.706898e+09</td>\n",
              "      <td>39.441025</td>\n",
              "      <td>2.664421</td>\n",
              "      <td>0.070100</td>\n",
              "      <td>43.829172</td>\n",
              "      <td>100.000000</td>\n",
              "      <td>54.600000</td>\n",
              "      <td>121.889647</td>\n",
              "      <td>57.797794</td>\n",
              "      <td>50.753726</td>\n",
              "      <td>75.555801</td>\n",
              "      <td>2.867307e+06</td>\n",
              "      <td>856242.939400</td>\n",
              "      <td>0.430051</td>\n",
              "      <td>47.522960</td>\n",
              "    </tr>\n",
              "  </tbody>\n",
              "</table>\n",
              "</div>"
            ],
            "text/plain": [
              "               EQ  ...  RPI_Subcategory\n",
              "count   34.000000  ...        34.000000\n",
              "mean   323.714126  ...        42.335193\n",
              "std    121.512386  ...         2.921126\n",
              "min    130.937361  ...        35.480731\n",
              "25%    238.093094  ...        40.448477\n",
              "50%    292.629436  ...        42.941337\n",
              "75%    445.078677  ...        44.038246\n",
              "max    546.053084  ...        47.522960\n",
              "\n",
              "[8 rows x 38 columns]"
            ]
          },
          "metadata": {
            "tags": []
          },
          "execution_count": 45
        }
      ]
    },
    {
      "cell_type": "code",
      "metadata": {
        "id": "iLXr5YOq6isq",
        "colab_type": "code",
        "colab": {}
      },
      "source": [
        "Valid=pd.read_csv(\"Testnewhurdle.csv\")"
      ],
      "execution_count": 0,
      "outputs": []
    },
    {
      "cell_type": "code",
      "metadata": {
        "id": "Uw3RmNTHvpzL",
        "colab_type": "code",
        "outputId": "6e65bb3c-1c33-4fa6-8e04-c91b0f79fc56",
        "colab": {
          "base_uri": "https://localhost:8080/",
          "height": 252
        }
      },
      "source": [
        "Train_data.columns"
      ],
      "execution_count": 47,
      "outputs": [
        {
          "output_type": "execute_result",
          "data": {
            "text/plain": [
              "Index(['Period', 'EQ', 'Social_Search_Impressions',\n",
              "       'Social_Search_Working_cost', 'Digital_Impressions',\n",
              "       'Digital_Working_cost', 'Print_Impressions.Ads40',\n",
              "       'Print_Working_Cost.Ads50', 'OOH_Impressions', 'OOH_Working_Cost',\n",
              "       'SOS_pct', 'Digital_Impressions_pct', 'CCFOT', 'Median_Temp',\n",
              "       'Median_Rainfall', 'Fuel_Price', 'Inflation', 'Trade_Invest',\n",
              "       'Brand_Equity', 'Avg_EQ_Price', 'Any_Promo_pct_ACV', 'Any_Feat_pct_ACV',\n",
              "       'Any_Disp_pct_ACV', 'EQ_Base_Price', 'Est_ACV_Selling', 'pct_ACV',\n",
              "       'Avg_no_of_Items', 'pct_PromoMarketDollars_Category', 'RPI_Category',\n",
              "       'Magazine_Impressions_pct', 'TV_GRP', 'Competitor1_RPI',\n",
              "       'Competitor2_RPI', 'Competitor3_RPI', 'Competitor4_RPI', 'EQ_Category',\n",
              "       'EQ_Subcategory', 'pct_PromoMarketDollars_Subcategory',\n",
              "       'RPI_Subcategory'],\n",
              "      dtype='object')"
            ]
          },
          "metadata": {
            "tags": []
          },
          "execution_count": 47
        }
      ]
    },
    {
      "cell_type": "code",
      "metadata": {
        "id": "1m4iMr5YweVT",
        "colab_type": "code",
        "colab": {}
      },
      "source": [
        "Train_data_final=Train_data.loc[:,['Avg_no_of_Items',\n",
        "                             'EQ']]"
      ],
      "execution_count": 0,
      "outputs": []
    },
    {
      "cell_type": "code",
      "metadata": {
        "id": "xmXOxxvtykm7",
        "colab_type": "code",
        "outputId": "5fa88fb4-0392-4ffb-f44e-b81184b4e28f",
        "colab": {
          "base_uri": "https://localhost:8080/",
          "height": 195
        }
      },
      "source": [
        "Train_data_final.head()"
      ],
      "execution_count": 49,
      "outputs": [
        {
          "output_type": "execute_result",
          "data": {
            "text/html": [
              "<div>\n",
              "<style scoped>\n",
              "    .dataframe tbody tr th:only-of-type {\n",
              "        vertical-align: middle;\n",
              "    }\n",
              "\n",
              "    .dataframe tbody tr th {\n",
              "        vertical-align: top;\n",
              "    }\n",
              "\n",
              "    .dataframe thead th {\n",
              "        text-align: right;\n",
              "    }\n",
              "</style>\n",
              "<table border=\"1\" class=\"dataframe\">\n",
              "  <thead>\n",
              "    <tr style=\"text-align: right;\">\n",
              "      <th></th>\n",
              "      <th>Avg_no_of_Items</th>\n",
              "      <th>EQ</th>\n",
              "    </tr>\n",
              "  </thead>\n",
              "  <tbody>\n",
              "    <tr>\n",
              "      <th>0</th>\n",
              "      <td>2.611782</td>\n",
              "      <td>504.784933</td>\n",
              "    </tr>\n",
              "    <tr>\n",
              "      <th>1</th>\n",
              "      <td>2.522814</td>\n",
              "      <td>490.226477</td>\n",
              "    </tr>\n",
              "    <tr>\n",
              "      <th>2</th>\n",
              "      <td>2.477322</td>\n",
              "      <td>479.244686</td>\n",
              "    </tr>\n",
              "    <tr>\n",
              "      <th>3</th>\n",
              "      <td>2.520409</td>\n",
              "      <td>489.057428</td>\n",
              "    </tr>\n",
              "    <tr>\n",
              "      <th>4</th>\n",
              "      <td>2.497285</td>\n",
              "      <td>477.031994</td>\n",
              "    </tr>\n",
              "  </tbody>\n",
              "</table>\n",
              "</div>"
            ],
            "text/plain": [
              "   Avg_no_of_Items          EQ\n",
              "0         2.611782  504.784933\n",
              "1         2.522814  490.226477\n",
              "2         2.477322  479.244686\n",
              "3         2.520409  489.057428\n",
              "4         2.497285  477.031994"
            ]
          },
          "metadata": {
            "tags": []
          },
          "execution_count": 49
        }
      ]
    },
    {
      "cell_type": "code",
      "metadata": {
        "id": "gj0MdpSXynVh",
        "colab_type": "code",
        "outputId": "41bd1abc-9c73-4e05-d258-c54592577581",
        "colab": {
          "base_uri": "https://localhost:8080/",
          "height": 282
        }
      },
      "source": [
        "Train_data['EQ'].plot()"
      ],
      "execution_count": 50,
      "outputs": [
        {
          "output_type": "execute_result",
          "data": {
            "text/plain": [
              "<matplotlib.axes._subplots.AxesSubplot at 0x7f09d679c748>"
            ]
          },
          "metadata": {
            "tags": []
          },
          "execution_count": 50
        },
        {
          "output_type": "display_data",
          "data": {
            "image/png": "[encoded data removed]",
            "text/plain": [
              "<Figure size 432x288 with 1 Axes>"
            ]
          },
          "metadata": {
            "tags": []
          }
        }
      ]
    },
    {
      "cell_type": "code",
      "metadata": {
        "id": "rw937aGsC_50",
        "colab_type": "code",
        "outputId": "d21d9b82-e150-41f2-d586-0d7d0ae417b0",
        "colab": {
          "base_uri": "https://localhost:8080/",
          "height": 1000
        }
      },
      "source": [
        "Train_data_final"
      ],
      "execution_count": 51,
      "outputs": [
        {
          "output_type": "execute_result",
          "data": {
            "text/html": [
              "<div>\n",
              "<style scoped>\n",
              "    .dataframe tbody tr th:only-of-type {\n",
              "        vertical-align: middle;\n",
              "    }\n",
              "\n",
              "    .dataframe tbody tr th {\n",
              "        vertical-align: top;\n",
              "    }\n",
              "\n",
              "    .dataframe thead th {\n",
              "        text-align: right;\n",
              "    }\n",
              "</style>\n",
              "<table border=\"1\" class=\"dataframe\">\n",
              "  <thead>\n",
              "    <tr style=\"text-align: right;\">\n",
              "      <th></th>\n",
              "      <th>Avg_no_of_Items</th>\n",
              "      <th>EQ</th>\n",
              "    </tr>\n",
              "  </thead>\n",
              "  <tbody>\n",
              "    <tr>\n",
              "      <th>0</th>\n",
              "      <td>2.611782</td>\n",
              "      <td>504.784933</td>\n",
              "    </tr>\n",
              "    <tr>\n",
              "      <th>1</th>\n",
              "      <td>2.522814</td>\n",
              "      <td>490.226477</td>\n",
              "    </tr>\n",
              "    <tr>\n",
              "      <th>2</th>\n",
              "      <td>2.477322</td>\n",
              "      <td>479.244686</td>\n",
              "    </tr>\n",
              "    <tr>\n",
              "      <th>3</th>\n",
              "      <td>2.520409</td>\n",
              "      <td>489.057428</td>\n",
              "    </tr>\n",
              "    <tr>\n",
              "      <th>4</th>\n",
              "      <td>2.497285</td>\n",
              "      <td>477.031994</td>\n",
              "    </tr>\n",
              "    <tr>\n",
              "      <th>5</th>\n",
              "      <td>2.455277</td>\n",
              "      <td>487.855299</td>\n",
              "    </tr>\n",
              "    <tr>\n",
              "      <th>6</th>\n",
              "      <td>2.412757</td>\n",
              "      <td>466.399281</td>\n",
              "    </tr>\n",
              "    <tr>\n",
              "      <th>7</th>\n",
              "      <td>2.641764</td>\n",
              "      <td>546.053084</td>\n",
              "    </tr>\n",
              "    <tr>\n",
              "      <th>8</th>\n",
              "      <td>2.559809</td>\n",
              "      <td>464.925607</td>\n",
              "    </tr>\n",
              "    <tr>\n",
              "      <th>9</th>\n",
              "      <td>2.664421</td>\n",
              "      <td>357.648693</td>\n",
              "    </tr>\n",
              "    <tr>\n",
              "      <th>10</th>\n",
              "      <td>2.496297</td>\n",
              "      <td>298.553287</td>\n",
              "    </tr>\n",
              "    <tr>\n",
              "      <th>11</th>\n",
              "      <td>2.392094</td>\n",
              "      <td>283.797430</td>\n",
              "    </tr>\n",
              "    <tr>\n",
              "      <th>12</th>\n",
              "      <td>2.075661</td>\n",
              "      <td>239.231622</td>\n",
              "    </tr>\n",
              "    <tr>\n",
              "      <th>13</th>\n",
              "      <td>2.563946</td>\n",
              "      <td>355.652264</td>\n",
              "    </tr>\n",
              "    <tr>\n",
              "      <th>14</th>\n",
              "      <td>2.315482</td>\n",
              "      <td>286.705586</td>\n",
              "    </tr>\n",
              "    <tr>\n",
              "      <th>15</th>\n",
              "      <td>2.437553</td>\n",
              "      <td>361.444714</td>\n",
              "    </tr>\n",
              "    <tr>\n",
              "      <th>16</th>\n",
              "      <td>2.437095</td>\n",
              "      <td>378.273911</td>\n",
              "    </tr>\n",
              "    <tr>\n",
              "      <th>17</th>\n",
              "      <td>2.495959</td>\n",
              "      <td>367.547047</td>\n",
              "    </tr>\n",
              "    <tr>\n",
              "      <th>18</th>\n",
              "      <td>2.446321</td>\n",
              "      <td>385.537890</td>\n",
              "    </tr>\n",
              "    <tr>\n",
              "      <th>19</th>\n",
              "      <td>2.414489</td>\n",
              "      <td>332.150377</td>\n",
              "    </tr>\n",
              "    <tr>\n",
              "      <th>20</th>\n",
              "      <td>2.422908</td>\n",
              "      <td>237.713584</td>\n",
              "    </tr>\n",
              "    <tr>\n",
              "      <th>21</th>\n",
              "      <td>2.417041</td>\n",
              "      <td>193.300754</td>\n",
              "    </tr>\n",
              "    <tr>\n",
              "      <th>22</th>\n",
              "      <td>2.394602</td>\n",
              "      <td>179.292503</td>\n",
              "    </tr>\n",
              "    <tr>\n",
              "      <th>23</th>\n",
              "      <td>2.355238</td>\n",
              "      <td>173.237305</td>\n",
              "    </tr>\n",
              "    <tr>\n",
              "      <th>24</th>\n",
              "      <td>2.441305</td>\n",
              "      <td>284.183292</td>\n",
              "    </tr>\n",
              "    <tr>\n",
              "      <th>25</th>\n",
              "      <td>2.373127</td>\n",
              "      <td>274.430757</td>\n",
              "    </tr>\n",
              "    <tr>\n",
              "      <th>26</th>\n",
              "      <td>2.380413</td>\n",
              "      <td>205.499984</td>\n",
              "    </tr>\n",
              "    <tr>\n",
              "      <th>27</th>\n",
              "      <td>2.376467</td>\n",
              "      <td>250.555064</td>\n",
              "    </tr>\n",
              "    <tr>\n",
              "      <th>28</th>\n",
              "      <td>2.500347</td>\n",
              "      <td>284.895480</td>\n",
              "    </tr>\n",
              "    <tr>\n",
              "      <th>29</th>\n",
              "      <td>2.439410</td>\n",
              "      <td>244.931359</td>\n",
              "    </tr>\n",
              "    <tr>\n",
              "      <th>30</th>\n",
              "      <td>2.367340</td>\n",
              "      <td>175.432319</td>\n",
              "    </tr>\n",
              "    <tr>\n",
              "      <th>31</th>\n",
              "      <td>2.338757</td>\n",
              "      <td>168.106665</td>\n",
              "    </tr>\n",
              "    <tr>\n",
              "      <th>32</th>\n",
              "      <td>2.370743</td>\n",
              "      <td>151.642231</td>\n",
              "    </tr>\n",
              "    <tr>\n",
              "      <th>33</th>\n",
              "      <td>2.356779</td>\n",
              "      <td>130.937361</td>\n",
              "    </tr>\n",
              "  </tbody>\n",
              "</table>\n",
              "</div>"
            ],
            "text/plain": [
              "    Avg_no_of_Items          EQ\n",
              "0          2.611782  504.784933\n",
              "1          2.522814  490.226477\n",
              "2          2.477322  479.244686\n",
              "3          2.520409  489.057428\n",
              "4          2.497285  477.031994\n",
              "5          2.455277  487.855299\n",
              "6          2.412757  466.399281\n",
              "7          2.641764  546.053084\n",
              "8          2.559809  464.925607\n",
              "9          2.664421  357.648693\n",
              "10         2.496297  298.553287\n",
              "11         2.392094  283.797430\n",
              "12         2.075661  239.231622\n",
              "13         2.563946  355.652264\n",
              "14         2.315482  286.705586\n",
              "15         2.437553  361.444714\n",
              "16         2.437095  378.273911\n",
              "17         2.495959  367.547047\n",
              "18         2.446321  385.537890\n",
              "19         2.414489  332.150377\n",
              "20         2.422908  237.713584\n",
              "21         2.417041  193.300754\n",
              "22         2.394602  179.292503\n",
              "23         2.355238  173.237305\n",
              "24         2.441305  284.183292\n",
              "25         2.373127  274.430757\n",
              "26         2.380413  205.499984\n",
              "27         2.376467  250.555064\n",
              "28         2.500347  284.895480\n",
              "29         2.439410  244.931359\n",
              "30         2.367340  175.432319\n",
              "31         2.338757  168.106665\n",
              "32         2.370743  151.642231\n",
              "33         2.356779  130.937361"
            ]
          },
          "metadata": {
            "tags": []
          },
          "execution_count": 51
        }
      ]
    },
    {
      "cell_type": "code",
      "metadata": {
        "id": "C3FV9QM3DAmQ",
        "colab_type": "code",
        "colab": {}
      },
      "source": [
        "from sklearn.preprocessing import MinMaxScaler\n"
      ],
      "execution_count": 0,
      "outputs": []
    },
    {
      "cell_type": "code",
      "metadata": {
        "id": "Uu3SbcidDLXC",
        "colab_type": "code",
        "colab": {}
      },
      "source": [
        "scaler = MinMaxScaler()\n",
        "#scaler.fit(Train_data_final)\n",
        "normalized_train_data=scaler.fit_transform(Train_data_final)"
      ],
      "execution_count": 0,
      "outputs": []
    },
    {
      "cell_type": "code",
      "metadata": {
        "id": "oKH8nzWD0fhY",
        "colab_type": "code",
        "colab": {}
      },
      "source": [
        "from statsmodels.tsa.vector_ar.var_model import VAR\n"
      ],
      "execution_count": 0,
      "outputs": []
    },
    {
      "cell_type": "code",
      "metadata": {
        "id": "LDX-Poc-4C_5",
        "colab_type": "code",
        "outputId": "71a49368-19e4-4ae7-ac97-b432523c1ef4",
        "colab": {
          "base_uri": "https://localhost:8080/",
          "height": 924
        }
      },
      "source": [
        "model = VAR(endog=normalized_train_data)\n",
        "#model_fit = model.fit()\n",
        "#model = VAR(df_differenced)\n",
        "for i in [1,2,3,4,5,6,7,8,9]:\n",
        "    result = model.fit(i)\n",
        "    print('Lag Order =', i)\n",
        "    print('AIC : ', result.aic)\n",
        "    print('BIC : ', result.bic)\n",
        "    print('FPE : ', result.fpe)\n",
        "    print('HQIC: ', result.hqic, '\\n')"
      ],
      "execution_count": 55,
      "outputs": [
        {
          "output_type": "stream",
          "text": [
            "Lag Order = 1\n",
            "AIC :  -8.193706846129768\n",
            "BIC :  -7.921614562226771\n",
            "FPE :  0.0002766658504081109\n",
            "HQIC:  -8.10215607131485 \n",
            "\n",
            "Lag Order = 2\n",
            "AIC :  -8.000589239856565\n",
            "BIC :  -7.54254677023165\n",
            "FPE :  0.0003370001621088807\n",
            "HQIC:  -7.848761119948792 \n",
            "\n",
            "Lag Order = 3\n",
            "AIC :  -7.9101771594199155\n",
            "BIC :  -7.26257003481372\n",
            "FPE :  0.0003728485298030832\n",
            "HQIC:  -7.699073384658609 \n",
            "\n",
            "Lag Order = 4\n",
            "AIC :  -7.624425429201033\n",
            "BIC :  -6.783707000203741\n",
            "FPE :  0.0005073309467527257\n",
            "HQIC:  -7.355472380359183 \n",
            "\n",
            "Lag Order = 5\n",
            "AIC :  -7.5120773159759935\n",
            "BIC :  -6.474818410469013\n",
            "FPE :  0.0005918227937031619\n",
            "HQIC:  -7.187220767418069 \n",
            "\n",
            "Lag Order = 6\n",
            "AIC :  -7.241193090414897\n",
            "BIC :  -6.004146045252208\n",
            "FPE :  0.0008356570833970081\n",
            "HQIC:  -6.8630154760833655 \n",
            "\n",
            "Lag Order = 7\n",
            "AIC :  -7.126151926880982\n",
            "BIC :  -5.686333186876172\n",
            "FPE :  0.001067059854563648\n",
            "HQIC:  -6.698018335136963 \n",
            "\n",
            "Lag Order = 8\n",
            "AIC :  -7.144601816799652\n",
            "BIC :  -5.499398651694636\n",
            "FPE :  0.0013174788175096001\n",
            "HQIC:  -6.670842833144149 \n",
            "\n",
            "Lag Order = 9\n",
            "AIC :  -7.08089428840739\n",
            "BIC :  -5.228203034607725\n",
            "FPE :  0.0021634871040041785\n",
            "HQIC:  -6.56703647371074 \n",
            "\n"
          ],
          "name": "stdout"
        }
      ]
    },
    {
      "cell_type": "code",
      "metadata": {
        "id": "ut-YwMuPmrwc",
        "colab_type": "code",
        "outputId": "71c3fe34-9273-4513-f88f-4f477e3c3d19",
        "colab": {
          "base_uri": "https://localhost:8080/",
          "height": 292
        }
      },
      "source": [
        "x = model.select_order(maxlags=10)\n",
        "x.summary()"
      ],
      "execution_count": 56,
      "outputs": [
        {
          "output_type": "execute_result",
          "data": {
            "text/html": [
              "<table class=\"simpletable\">\n",
              "<caption>VAR Order Selection (* highlights the minimums)</caption>\n",
              "<tr>\n",
              "   <td></td>      <th>AIC</th>         <th>BIC</th>         <th>FPE</th>        <th>HQIC</th>    \n",
              "</tr>\n",
              "<tr>\n",
              "  <th>0</th>  <td>    -7.260</td>  <td>    -7.162</td>  <td> 0.0007033</td>  <td>    -7.234</td> \n",
              "</tr>\n",
              "<tr>\n",
              "  <th>1</th>  <td>    -8.156*</td> <td>    -7.861*</td> <td> 0.0002878*</td> <td>    -8.078*</td>\n",
              "</tr>\n",
              "<tr>\n",
              "  <th>2</th>  <td>    -7.897</td>  <td>    -7.407</td>  <td> 0.0003763</td>  <td>    -7.767</td> \n",
              "</tr>\n",
              "<tr>\n",
              "  <th>3</th>  <td>    -7.785</td>  <td>    -7.098</td>  <td> 0.0004305</td>  <td>    -7.603</td> \n",
              "</tr>\n",
              "<tr>\n",
              "  <th>4</th>  <td>    -7.598</td>  <td>    -6.715</td>  <td> 0.0005413</td>  <td>    -7.364</td> \n",
              "</tr>\n",
              "<tr>\n",
              "  <th>5</th>  <td>    -7.712</td>  <td>    -6.632</td>  <td> 0.0005185</td>  <td>    -7.426</td> \n",
              "</tr>\n",
              "<tr>\n",
              "  <th>6</th>  <td>    -7.463</td>  <td>    -6.187</td>  <td> 0.0007437</td>  <td>    -7.125</td> \n",
              "</tr>\n",
              "<tr>\n",
              "  <th>7</th>  <td>    -7.298</td>  <td>    -5.826</td>  <td>  0.001043</td>  <td>    -6.908</td> \n",
              "</tr>\n",
              "<tr>\n",
              "  <th>8</th>  <td>    -7.297</td>  <td>    -5.628</td>  <td>  0.001367</td>  <td>    -6.854</td> \n",
              "</tr>\n",
              "<tr>\n",
              "  <th>9</th>  <td>    -7.293</td>  <td>    -5.428</td>  <td>  0.002120</td>  <td>    -6.798</td> \n",
              "</tr>\n",
              "<tr>\n",
              "  <th>10</th> <td>    -7.427</td>  <td>    -5.365</td>  <td>  0.004044</td>  <td>    -6.880</td> \n",
              "</tr>\n",
              "</table>"
            ],
            "text/plain": [
              "<class 'statsmodels.iolib.table.SimpleTable'>"
            ]
          },
          "metadata": {
            "tags": []
          },
          "execution_count": 56
        }
      ]
    },
    {
      "cell_type": "code",
      "metadata": {
        "id": "QeAE9aGgnwk3",
        "colab_type": "code",
        "colab": {}
      },
      "source": [
        ""
      ],
      "execution_count": 0,
      "outputs": []
    },
    {
      "cell_type": "code",
      "metadata": {
        "id": "urpdccvXnWDP",
        "colab_type": "code",
        "outputId": "99e3ba13-abb2-4e86-a14e-947e3c50ba3d",
        "colab": {
          "base_uri": "https://localhost:8080/",
          "height": 34
        }
      },
      "source": [
        "model_fitted = model.fit(1)\n",
        "\n",
        "\n",
        "model_fitted"
      ],
      "execution_count": 57,
      "outputs": [
        {
          "output_type": "execute_result",
          "data": {
            "text/plain": [
              "<statsmodels.tsa.vector_ar.var_model.VARResultsWrapper at 0x7f09d67cab00>"
            ]
          },
          "metadata": {
            "tags": []
          },
          "execution_count": 57
        }
      ]
    },
    {
      "cell_type": "code",
      "metadata": {
        "id": "u7kxKP5j6PSb",
        "colab_type": "code",
        "colab": {}
      },
      "source": [
        "prediction = model_fitted.forecast(y=normalized_train_data[-1:], steps=len(Valid))\n",
        "#Valid.head()"
      ],
      "execution_count": 0,
      "outputs": []
    },
    {
      "cell_type": "code",
      "metadata": {
        "id": "w4komTlcnVFe",
        "colab_type": "code",
        "outputId": "dd387d5e-aa7f-4f90-bdf9-8c53b3bb93e0",
        "colab": {
          "base_uri": "https://localhost:8080/",
          "height": 101
        }
      },
      "source": [
        "prediction"
      ],
      "execution_count": 59,
      "outputs": [
        {
          "output_type": "execute_result",
          "data": {
            "text/plain": [
              "array([[ 0.44336604, -0.00517463],\n",
              "       [ 0.4489641 ,  0.0072688 ],\n",
              "       [ 0.45290634,  0.01817896],\n",
              "       [ 0.45658282,  0.02826093],\n",
              "       [ 0.45997259,  0.03755969]])"
            ]
          },
          "metadata": {
            "tags": []
          },
          "execution_count": 59
        }
      ]
    },
    {
      "cell_type": "code",
      "metadata": {
        "id": "TtXd9UR29xGl",
        "colab_type": "code",
        "outputId": "8bfa8a78-3549-4cb0-d10d-d0ca6acaeadd",
        "colab": {
          "base_uri": "https://localhost:8080/",
          "height": 299
        }
      },
      "source": [
        "import matplotlib.pyplot as plt\n",
        "pd.concat([Train_data,Valid]).head()"
      ],
      "execution_count": 60,
      "outputs": [
        {
          "output_type": "execute_result",
          "data": {
            "text/html": [
              "<div>\n",
              "<style scoped>\n",
              "    .dataframe tbody tr th:only-of-type {\n",
              "        vertical-align: middle;\n",
              "    }\n",
              "\n",
              "    .dataframe tbody tr th {\n",
              "        vertical-align: top;\n",
              "    }\n",
              "\n",
              "    .dataframe thead th {\n",
              "        text-align: right;\n",
              "    }\n",
              "</style>\n",
              "<table border=\"1\" class=\"dataframe\">\n",
              "  <thead>\n",
              "    <tr style=\"text-align: right;\">\n",
              "      <th></th>\n",
              "      <th>Period</th>\n",
              "      <th>EQ</th>\n",
              "      <th>Social_Search_Impressions</th>\n",
              "      <th>Social_Search_Working_cost</th>\n",
              "      <th>Digital_Impressions</th>\n",
              "      <th>Digital_Working_cost</th>\n",
              "      <th>Print_Impressions.Ads40</th>\n",
              "      <th>Print_Working_Cost.Ads50</th>\n",
              "      <th>OOH_Impressions</th>\n",
              "      <th>OOH_Working_Cost</th>\n",
              "      <th>SOS_pct</th>\n",
              "      <th>Digital_Impressions_pct</th>\n",
              "      <th>CCFOT</th>\n",
              "      <th>Median_Temp</th>\n",
              "      <th>Median_Rainfall</th>\n",
              "      <th>Fuel_Price</th>\n",
              "      <th>Inflation</th>\n",
              "      <th>Trade_Invest</th>\n",
              "      <th>Brand_Equity</th>\n",
              "      <th>Avg_EQ_Price</th>\n",
              "      <th>Any_Promo_pct_ACV</th>\n",
              "      <th>Any_Feat_pct_ACV</th>\n",
              "      <th>Any_Disp_pct_ACV</th>\n",
              "      <th>EQ_Base_Price</th>\n",
              "      <th>Est_ACV_Selling</th>\n",
              "      <th>pct_ACV</th>\n",
              "      <th>Avg_no_of_Items</th>\n",
              "      <th>pct_PromoMarketDollars_Category</th>\n",
              "      <th>RPI_Category</th>\n",
              "      <th>Magazine_Impressions_pct</th>\n",
              "      <th>TV_GRP</th>\n",
              "      <th>Competitor1_RPI</th>\n",
              "      <th>Competitor2_RPI</th>\n",
              "      <th>Competitor3_RPI</th>\n",
              "      <th>Competitor4_RPI</th>\n",
              "      <th>EQ_Category</th>\n",
              "      <th>EQ_Subcategory</th>\n",
              "      <th>pct_PromoMarketDollars_Subcategory</th>\n",
              "      <th>RPI_Subcategory</th>\n",
              "    </tr>\n",
              "  </thead>\n",
              "  <tbody>\n",
              "    <tr>\n",
              "      <th>0</th>\n",
              "      <td>2016 - Period:1</td>\n",
              "      <td>504.784933</td>\n",
              "      <td>NaN</td>\n",
              "      <td>NaN</td>\n",
              "      <td>37148.2</td>\n",
              "      <td>2045.282</td>\n",
              "      <td>NaN</td>\n",
              "      <td>NaN</td>\n",
              "      <td>NaN</td>\n",
              "      <td>NaN</td>\n",
              "      <td>7.446883</td>\n",
              "      <td>NaN</td>\n",
              "      <td>100.0</td>\n",
              "      <td>32.950</td>\n",
              "      <td>0.5150</td>\n",
              "      <td>8.226</td>\n",
              "      <td>0.013258</td>\n",
              "      <td>42744.25684</td>\n",
              "      <td>42.410000</td>\n",
              "      <td>49.091447</td>\n",
              "      <td>9.691794</td>\n",
              "      <td>NaN</td>\n",
              "      <td>1.688896</td>\n",
              "      <td>1.427532</td>\n",
              "      <td>8696587915</td>\n",
              "      <td>39.441025</td>\n",
              "      <td>2.611782</td>\n",
              "      <td>0.0339</td>\n",
              "      <td>35.817030</td>\n",
              "      <td>NaN</td>\n",
              "      <td>NaN</td>\n",
              "      <td>97.173365</td>\n",
              "      <td>35.557371</td>\n",
              "      <td>44.502717</td>\n",
              "      <td>63.377268</td>\n",
              "      <td>1728388.673</td>\n",
              "      <td>331927.5394</td>\n",
              "      <td>0.162732</td>\n",
              "      <td>40.560563</td>\n",
              "    </tr>\n",
              "    <tr>\n",
              "      <th>1</th>\n",
              "      <td>2016 - Period:2</td>\n",
              "      <td>490.226477</td>\n",
              "      <td>NaN</td>\n",
              "      <td>NaN</td>\n",
              "      <td>50886.8</td>\n",
              "      <td>2370.584</td>\n",
              "      <td>0.000014</td>\n",
              "      <td>0.000015</td>\n",
              "      <td>NaN</td>\n",
              "      <td>NaN</td>\n",
              "      <td>11.677082</td>\n",
              "      <td>NaN</td>\n",
              "      <td>87.5</td>\n",
              "      <td>34.625</td>\n",
              "      <td>0.2700</td>\n",
              "      <td>7.473</td>\n",
              "      <td>0.009938</td>\n",
              "      <td>36290.43956</td>\n",
              "      <td>42.410000</td>\n",
              "      <td>49.057612</td>\n",
              "      <td>9.415938</td>\n",
              "      <td>NaN</td>\n",
              "      <td>1.687952</td>\n",
              "      <td>1.442716</td>\n",
              "      <td>8682307085</td>\n",
              "      <td>38.417224</td>\n",
              "      <td>2.522814</td>\n",
              "      <td>0.0391</td>\n",
              "      <td>36.389065</td>\n",
              "      <td>NaN</td>\n",
              "      <td>NaN</td>\n",
              "      <td>97.850760</td>\n",
              "      <td>37.223072</td>\n",
              "      <td>45.720077</td>\n",
              "      <td>62.731742</td>\n",
              "      <td>1900859.879</td>\n",
              "      <td>334611.3806</td>\n",
              "      <td>0.231650</td>\n",
              "      <td>40.046301</td>\n",
              "    </tr>\n",
              "    <tr>\n",
              "      <th>2</th>\n",
              "      <td>2016 - Period:3</td>\n",
              "      <td>479.244686</td>\n",
              "      <td>NaN</td>\n",
              "      <td>NaN</td>\n",
              "      <td>253333.2</td>\n",
              "      <td>3180.888</td>\n",
              "      <td>0.000016</td>\n",
              "      <td>0.000017</td>\n",
              "      <td>NaN</td>\n",
              "      <td>NaN</td>\n",
              "      <td>0.102858</td>\n",
              "      <td>NaN</td>\n",
              "      <td>96.0</td>\n",
              "      <td>46.700</td>\n",
              "      <td>0.3900</td>\n",
              "      <td>8.001</td>\n",
              "      <td>0.007832</td>\n",
              "      <td>34852.14166</td>\n",
              "      <td>42.410000</td>\n",
              "      <td>49.367514</td>\n",
              "      <td>5.176684</td>\n",
              "      <td>NaN</td>\n",
              "      <td>NaN</td>\n",
              "      <td>1.423408</td>\n",
              "      <td>8706897549</td>\n",
              "      <td>36.499442</td>\n",
              "      <td>2.477322</td>\n",
              "      <td>0.0228</td>\n",
              "      <td>36.599984</td>\n",
              "      <td>NaN</td>\n",
              "      <td>NaN</td>\n",
              "      <td>96.397739</td>\n",
              "      <td>40.800563</td>\n",
              "      <td>41.822953</td>\n",
              "      <td>62.090417</td>\n",
              "      <td>2036436.906</td>\n",
              "      <td>387148.3582</td>\n",
              "      <td>0.125394</td>\n",
              "      <td>40.411115</td>\n",
              "    </tr>\n",
              "    <tr>\n",
              "      <th>3</th>\n",
              "      <td>2016 - Period:4</td>\n",
              "      <td>489.057428</td>\n",
              "      <td>NaN</td>\n",
              "      <td>NaN</td>\n",
              "      <td>3426239.0</td>\n",
              "      <td>13595.398</td>\n",
              "      <td>0.000016</td>\n",
              "      <td>0.000019</td>\n",
              "      <td>NaN</td>\n",
              "      <td>NaN</td>\n",
              "      <td>0.249055</td>\n",
              "      <td>NaN</td>\n",
              "      <td>100.0</td>\n",
              "      <td>49.650</td>\n",
              "      <td>0.3500</td>\n",
              "      <td>8.767</td>\n",
              "      <td>0.010034</td>\n",
              "      <td>24869.55899</td>\n",
              "      <td>43.543571</td>\n",
              "      <td>50.657634</td>\n",
              "      <td>6.088273</td>\n",
              "      <td>NaN</td>\n",
              "      <td>NaN</td>\n",
              "      <td>1.443401</td>\n",
              "      <td>8660288592</td>\n",
              "      <td>38.135159</td>\n",
              "      <td>2.520409</td>\n",
              "      <td>0.0147</td>\n",
              "      <td>38.201852</td>\n",
              "      <td>NaN</td>\n",
              "      <td>NaN</td>\n",
              "      <td>98.936519</td>\n",
              "      <td>36.576140</td>\n",
              "      <td>41.578429</td>\n",
              "      <td>63.374358</td>\n",
              "      <td>2113635.013</td>\n",
              "      <td>482489.6740</td>\n",
              "      <td>0.056603</td>\n",
              "      <td>42.213246</td>\n",
              "    </tr>\n",
              "    <tr>\n",
              "      <th>4</th>\n",
              "      <td>2016 - Period:5</td>\n",
              "      <td>477.031994</td>\n",
              "      <td>NaN</td>\n",
              "      <td>NaN</td>\n",
              "      <td>552197.8</td>\n",
              "      <td>3983.134</td>\n",
              "      <td>0.000016</td>\n",
              "      <td>0.000019</td>\n",
              "      <td>NaN</td>\n",
              "      <td>NaN</td>\n",
              "      <td>13.338804</td>\n",
              "      <td>NaN</td>\n",
              "      <td>100.0</td>\n",
              "      <td>58.100</td>\n",
              "      <td>0.5025</td>\n",
              "      <td>9.277</td>\n",
              "      <td>0.009546</td>\n",
              "      <td>61675.32162</td>\n",
              "      <td>43.790000</td>\n",
              "      <td>50.625777</td>\n",
              "      <td>7.827112</td>\n",
              "      <td>NaN</td>\n",
              "      <td>0.170731</td>\n",
              "      <td>1.473687</td>\n",
              "      <td>8644518558</td>\n",
              "      <td>38.629564</td>\n",
              "      <td>2.497285</td>\n",
              "      <td>0.0219</td>\n",
              "      <td>38.648805</td>\n",
              "      <td>31.702433</td>\n",
              "      <td>25.3</td>\n",
              "      <td>100.509969</td>\n",
              "      <td>36.032016</td>\n",
              "      <td>42.602412</td>\n",
              "      <td>63.291934</td>\n",
              "      <td>2402211.102</td>\n",
              "      <td>629826.6484</td>\n",
              "      <td>0.065059</td>\n",
              "      <td>43.345578</td>\n",
              "    </tr>\n",
              "  </tbody>\n",
              "</table>\n",
              "</div>"
            ],
            "text/plain": [
              "            Period  ...  RPI_Subcategory\n",
              "0  2016 - Period:1  ...        40.560563\n",
              "1  2016 - Period:2  ...        40.046301\n",
              "2  2016 - Period:3  ...        40.411115\n",
              "3  2016 - Period:4  ...        42.213246\n",
              "4  2016 - Period:5  ...        43.345578\n",
              "\n",
              "[5 rows x 39 columns]"
            ]
          },
          "metadata": {
            "tags": []
          },
          "execution_count": 60
        }
      ]
    },
    {
      "cell_type": "code",
      "metadata": {
        "id": "XPmQMU9fFUZG",
        "colab_type": "code",
        "outputId": "d3b70ef1-689c-4920-dae8-f563bde20f77",
        "colab": {
          "base_uri": "https://localhost:8080/",
          "height": 689
        }
      },
      "source": [
        "pd.concat([Train_data.iloc[:,1],Valid.iloc[:,1]])"
      ],
      "execution_count": 61,
      "outputs": [
        {
          "output_type": "execute_result",
          "data": {
            "text/plain": [
              "0     504.784933\n",
              "1     490.226477\n",
              "2     479.244686\n",
              "3     489.057428\n",
              "4     477.031994\n",
              "5     487.855299\n",
              "6     466.399281\n",
              "7     546.053084\n",
              "8     464.925607\n",
              "9     357.648693\n",
              "10    298.553287\n",
              "11    283.797430\n",
              "12    239.231622\n",
              "13    355.652264\n",
              "14    286.705586\n",
              "15    361.444714\n",
              "16    378.273911\n",
              "17    367.547047\n",
              "18    385.537890\n",
              "19    332.150377\n",
              "20    237.713584\n",
              "21    193.300754\n",
              "22    179.292503\n",
              "23    173.237305\n",
              "24    284.183292\n",
              "25    274.430757\n",
              "26    205.499984\n",
              "27    250.555064\n",
              "28    284.895480\n",
              "29    244.931359\n",
              "30    175.432319\n",
              "31    168.106665\n",
              "32    151.642231\n",
              "33    130.937361\n",
              "0     392.326431\n",
              "1     300.922056\n",
              "2     247.315476\n",
              "3     278.317524\n",
              "4     161.529279\n",
              "Name: EQ, dtype: float64"
            ]
          },
          "metadata": {
            "tags": []
          },
          "execution_count": 61
        }
      ]
    },
    {
      "cell_type": "code",
      "metadata": {
        "id": "UvV5bj3sEKyl",
        "colab_type": "code",
        "outputId": "99193c93-df3a-4194-e2dd-2a83fdfc65b2",
        "colab": {
          "base_uri": "https://localhost:8080/",
          "height": 672
        }
      },
      "source": [
        "import numpy as np\n",
        "scaler = MinMaxScaler()\n",
        "#scaler.fit(np.array(pd.concat([Train_data,Valid]).iloc[:,1]).reshape(-1, 1))\n",
        "normalized_complete_data=scaler.fit_transform(np.array(pd.concat([Train_data.iloc[:,1],Valid.iloc[:,1]])).reshape(-1, 1))\n",
        "normalized_complete_data"
      ],
      "execution_count": 62,
      "outputs": [
        {
          "output_type": "execute_result",
          "data": {
            "text/plain": [
              "array([[0.90058639],\n",
              "       [0.86551556],\n",
              "       [0.83906078],\n",
              "       [0.86269935],\n",
              "       [0.83373048],\n",
              "       [0.85980347],\n",
              "       [0.80811663],\n",
              "       [1.        ],\n",
              "       [0.8045666 ],\n",
              "       [0.54614007],\n",
              "       [0.4037812 ],\n",
              "       [0.36823483],\n",
              "       [0.26087728],\n",
              "       [0.54133074],\n",
              "       [0.37524048],\n",
              "       [0.55528456],\n",
              "       [0.59582554],\n",
              "       [0.56998488],\n",
              "       [0.61332422],\n",
              "       [0.48471548],\n",
              "       [0.25722038],\n",
              "       [0.15023135],\n",
              "       [0.11648593],\n",
              "       [0.10189916],\n",
              "       [0.36916436],\n",
              "       [0.34567083],\n",
              "       [0.17961889],\n",
              "       [0.28815508],\n",
              "       [0.37088   ],\n",
              "       [0.27460776],\n",
              "       [0.10718688],\n",
              "       [0.08953962],\n",
              "       [0.04987735],\n",
              "       [0.        ],\n",
              "       [0.6296776 ],\n",
              "       [0.40948749],\n",
              "       [0.28035102],\n",
              "       [0.35503392],\n",
              "       [0.07369492]])"
            ]
          },
          "metadata": {
            "tags": []
          },
          "execution_count": 62
        }
      ]
    },
    {
      "cell_type": "code",
      "metadata": {
        "id": "nH5q3moFgYn2",
        "colab_type": "code",
        "outputId": "deae8794-4f06-4fd9-ddbf-8b2919222c77",
        "colab": {
          "base_uri": "https://localhost:8080/",
          "height": 672
        }
      },
      "source": [
        "np.array(pd.concat([Train_data,Valid]).iloc[:,1]).reshape(-1, 1)"
      ],
      "execution_count": 63,
      "outputs": [
        {
          "output_type": "execute_result",
          "data": {
            "text/plain": [
              "array([[504.7849334],\n",
              "       [490.2264774],\n",
              "       [479.2446856],\n",
              "       [489.0574275],\n",
              "       [477.0319938],\n",
              "       [487.8552994],\n",
              "       [466.3992813],\n",
              "       [546.0530843],\n",
              "       [464.9256065],\n",
              "       [357.6486931],\n",
              "       [298.553287 ],\n",
              "       [283.7974301],\n",
              "       [239.2316222],\n",
              "       [355.6522644],\n",
              "       [286.705586 ],\n",
              "       [361.4447145],\n",
              "       [378.2739106],\n",
              "       [367.5470472],\n",
              "       [385.53789  ],\n",
              "       [332.1503773],\n",
              "       [237.7135844],\n",
              "       [193.3007544],\n",
              "       [179.2925035],\n",
              "       [173.2373049],\n",
              "       [284.1832918],\n",
              "       [274.4307568],\n",
              "       [205.4999844],\n",
              "       [250.555064 ],\n",
              "       [284.8954797],\n",
              "       [244.9313589],\n",
              "       [175.4323186],\n",
              "       [168.1066651],\n",
              "       [151.6422314],\n",
              "       [130.9373608],\n",
              "       [392.3264313],\n",
              "       [300.9220559],\n",
              "       [247.3154761],\n",
              "       [278.3175236],\n",
              "       [161.529279 ]])"
            ]
          },
          "metadata": {
            "tags": []
          },
          "execution_count": 63
        }
      ]
    },
    {
      "cell_type": "code",
      "metadata": {
        "id": "fn8BF_yz68jc",
        "colab_type": "code",
        "outputId": "410954af-1411-4141-e769-8e2887fd4003",
        "colab": {
          "base_uri": "https://localhost:8080/",
          "height": 282
        }
      },
      "source": [
        "import matplotlib.pyplot as plt\n",
        "plt.plot(prediction[:,1] )\n",
        "plt.plot(normalized_complete_data[-len(Valid):])"
      ],
      "execution_count": 64,
      "outputs": [
        {
          "output_type": "execute_result",
          "data": {
            "text/plain": [
              "[<matplotlib.lines.Line2D at 0x7f09d67345c0>]"
            ]
          },
          "metadata": {
            "tags": []
          },
          "execution_count": 64
        },
        {
          "output_type": "display_data",
          "data": {
            "image/png": "[encoded data removed]",
            "text/plain": [
              "<Figure size 432x288 with 1 Axes>"
            ]
          },
          "metadata": {
            "tags": []
          }
        }
      ]
    },
    {
      "cell_type": "markdown",
      "metadata": {
        "id": "zcfFKYaZPi08",
        "colab_type": "text"
      },
      "source": [
        "\n",
        "***Mean squared error regression loss***"
      ]
    },
    {
      "cell_type": "code",
      "metadata": {
        "id": "CzGTYwjM6-tp",
        "colab_type": "code",
        "outputId": "fddd6a0b-f3db-40ec-831d-197ba6b6bebc",
        "colab": {
          "base_uri": "https://localhost:8080/",
          "height": 34
        }
      },
      "source": [
        "from sklearn.metrics import mean_squared_error\n",
        "\n",
        "mean_squared_error(normalized_complete_data[-len(Valid):], prediction[:,1])"
      ],
      "execution_count": 65,
      "outputs": [
        {
          "output_type": "execute_result",
          "data": {
            "text/plain": [
              "0.14832755059922162"
            ]
          },
          "metadata": {
            "tags": []
          },
          "execution_count": 65
        }
      ]
    },
    {
      "cell_type": "markdown",
      "metadata": {
        "id": "g9QMr4CgPGyW",
        "colab_type": "text"
      },
      "source": [
        "**PREDICTIONS**"
      ]
    },
    {
      "cell_type": "code",
      "metadata": {
        "id": "I0dGQdqK9pIl",
        "colab_type": "code",
        "outputId": "813b1e3a-3927-4936-8776-4510381e7f8e",
        "colab": {
          "base_uri": "https://localhost:8080/",
          "height": 101
        }
      },
      "source": [
        "\n",
        "pred = scaler.inverse_transform(np.array(prediction[:,1]).reshape(-1,1))\n",
        "pred"
      ],
      "execution_count": 66,
      "outputs": [
        {
          "output_type": "execute_result",
          "data": {
            "text/plain": [
              "array([[128.78929104],\n",
              "       [133.95475273],\n",
              "       [138.48373151],\n",
              "       [142.66891736],\n",
              "       [146.52897922]])"
            ]
          },
          "metadata": {
            "tags": []
          },
          "execution_count": 66
        }
      ]
    }
  ]
}